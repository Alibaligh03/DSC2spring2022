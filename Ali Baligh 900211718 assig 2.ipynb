{
 "cells": [
  {
   "cell_type": "markdown",
   "id": "f62aafce",
   "metadata": {},
   "source": [
    "# Assignment 2: Data analysis - results and covid_data "
   ]
  },
  {
   "cell_type": "markdown",
   "id": "9fefce4c",
   "metadata": {},
   "source": [
    "Ali Baligh-900211718 "
   ]
  },
  {
   "cell_type": "markdown",
   "id": "aa4398d3",
   "metadata": {},
   "source": [
    "# Content"
   ]
  },
  {
   "cell_type": "markdown",
   "id": "b91151c2",
   "metadata": {},
   "source": [
    "# 1. Results data description"
   ]
  },
  {
   "cell_type": "markdown",
   "id": "6835a41a",
   "metadata": {},
   "source": [
    "# 2.Variables Description "
   ]
  },
  {
   "cell_type": "markdown",
   "id": "c8caf7b9",
   "metadata": {},
   "source": [
    "# 3.Covid_data data description"
   ]
  },
  {
   "cell_type": "markdown",
   "id": "168b3417",
   "metadata": {},
   "source": [
    "# 4. Variables Description"
   ]
  },
  {
   "cell_type": "markdown",
   "id": "f10a2d56",
   "metadata": {},
   "source": [
    "# 5. Part 1a : probability of winning or losing "
   ]
  },
  {
   "cell_type": "markdown",
   "id": "48e1def7",
   "metadata": {},
   "source": [
    "# 6. Part 1b: Comparing confidence intervals."
   ]
  },
  {
   "cell_type": "markdown",
   "id": "256a4e67",
   "metadata": {},
   "source": [
    "# 7. Part 1c: Graphs"
   ]
  },
  {
   "cell_type": "markdown",
   "id": "644b5dc9",
   "metadata": {},
   "source": [
    "# 8. Part 1d: Description of the results."
   ]
  },
  {
   "cell_type": "markdown",
   "id": "4f8c172e",
   "metadata": {},
   "source": [
    "# 9. Part 2a:  reported number of confirmed cases and deaths."
   ]
  },
  {
   "cell_type": "markdown",
   "id": "630a7d46",
   "metadata": {},
   "source": [
    "# 10. Part 2b: ratio between the confirmed cases and deaths."
   ]
  },
  {
   "cell_type": "markdown",
   "id": "1d3926d6",
   "metadata": {},
   "source": [
    "# 11. Part 2c: 2020 vs 2021"
   ]
  },
  {
   "cell_type": "markdown",
   "id": "c4df3ad6",
   "metadata": {},
   "source": [
    "# 12. Part 2d: Description of the results. "
   ]
  },
  {
   "cell_type": "markdown",
   "id": "7ac205fd",
   "metadata": {},
   "source": [
    "# Results data description"
   ]
  },
  {
   "cell_type": "markdown",
   "id": "f6419f34",
   "metadata": {},
   "source": [
    "In this python notebook, I will analyze the probability of winning/losing of the countries in the different tournaments  in the dataset results.csv by using statistics, visuals, and graphs. I will study the probabilities in terms of several factors (playing at home/away). I would also compare confidence intervals and draw the corresponding graphs. This data is includes 43,170 results of international football matches starting from the very first official match in 1872 up to 2019. The matches range from FIFA World Cup to FIFI Wild Cup to regular friendly matches. The matches are strictly men’s full internationals and the data does not include Olympic Games or matches where at least one of the teams was the nation’s\n",
    "B-team, U-23 or a league select team. "
   ]
  },
  {
   "cell_type": "markdown",
   "id": "0cd92195",
   "metadata": {},
   "source": [
    "# Variables Description"
   ]
  },
  {
   "cell_type": "markdown",
   "id": "fa523790",
   "metadata": {},
   "source": [
    "date - date of the match\n",
    "\n",
    "• home_team - the name of the home team\n",
    "\n",
    "• away_team - the name of the away team\n",
    "\n",
    "• home_score - full-time home team score including extra time, not including penaltyshootouts\n",
    "\n",
    "• away_score - full-time away team score including extra time, not including penaltyshootouts\n",
    "\n",
    "• tournament - the name of the tournament\n",
    "\n",
    "• city - the name of the city/town/administrative unit where the match was played\n",
    "\n",
    "• country - the name of the country where the match was played\n",
    "\n",
    "• neutral - TRUE/FALSE column indicating whether the match was played at a neutral venue\n",
    "\n"
   ]
  },
  {
   "cell_type": "markdown",
   "id": "efa88831",
   "metadata": {},
   "source": [
    "# Covid_data data description"
   ]
  },
  {
   "cell_type": "markdown",
   "id": "ae675bc3",
   "metadata": {},
   "source": [
    "In this python notebook, I will analyze the daily reported number of cases and deaths, the case fatality rate (the ratio between deaths and cases) from COVID-19 by using statistics, visuals, and graphs. I will Compare between 2020 and 2021 and compare between regions, income, and continents). The dataset in covid_data.csv includes the records of two years 2020 and 2021 in the countries affected by the COVID-19 pandemic."
   ]
  },
  {
   "cell_type": "markdown",
   "id": "3332fd5a",
   "metadata": {},
   "source": [
    "# Variables Description"
   ]
  },
  {
   "cell_type": "markdown",
   "id": "22789a0c",
   "metadata": {},
   "source": [
    "• date- the date\n",
    "\n",
    "• iso3c- the country code\n",
    "\n",
    "• country- country name\n",
    "\n",
    "• income- Income group according WB classification\n",
    "\n",
    "• region- Geographical region according WB classification\n",
    "\n",
    "• continent- the name of the continent\n",
    "\n",
    "• dcases- the reported daily cases\n",
    "\n",
    "• ddeaths- the reported daily deaths\n",
    "\n",
    "• population- population size of the country in 2019\n",
    "\n",
    "• weekdays- weekdays\n",
    "\n",
    "• month- months\n"
   ]
  },
  {
   "cell_type": "markdown",
   "id": "ae58d1c7",
   "metadata": {},
   "source": [
    "# Part 1a: probability of winning or losing"
   ]
  },
  {
   "cell_type": "code",
   "execution_count": 2,
   "id": "54eb6e34",
   "metadata": {},
   "outputs": [],
   "source": [
    "import numpy as np"
   ]
  },
  {
   "cell_type": "code",
   "execution_count": 3,
   "id": "ce3a5222",
   "metadata": {},
   "outputs": [],
   "source": [
    "import pandas as pd"
   ]
  },
  {
   "cell_type": "code",
   "execution_count": 5,
   "id": "e9eb4597",
   "metadata": {},
   "outputs": [],
   "source": [
    "df=pd.read_csv('results.csv',encoding='latin-1')"
   ]
  },
  {
   "cell_type": "code",
   "execution_count": 7,
   "id": "ccc4260c",
   "metadata": {},
   "outputs": [
    {
     "data": {
      "text/html": [
       "<div>\n",
       "<style scoped>\n",
       "    .dataframe tbody tr th:only-of-type {\n",
       "        vertical-align: middle;\n",
       "    }\n",
       "\n",
       "    .dataframe tbody tr th {\n",
       "        vertical-align: top;\n",
       "    }\n",
       "\n",
       "    .dataframe thead th {\n",
       "        text-align: right;\n",
       "    }\n",
       "</style>\n",
       "<table border=\"1\" class=\"dataframe\">\n",
       "  <thead>\n",
       "    <tr style=\"text-align: right;\">\n",
       "      <th></th>\n",
       "      <th>date</th>\n",
       "      <th>home_team</th>\n",
       "      <th>away_team</th>\n",
       "      <th>home_score</th>\n",
       "      <th>away_score</th>\n",
       "      <th>tournament</th>\n",
       "      <th>city</th>\n",
       "      <th>country</th>\n",
       "      <th>neutral</th>\n",
       "    </tr>\n",
       "  </thead>\n",
       "  <tbody>\n",
       "    <tr>\n",
       "      <th>0</th>\n",
       "      <td>1872-11-30</td>\n",
       "      <td>Scotland</td>\n",
       "      <td>England</td>\n",
       "      <td>0</td>\n",
       "      <td>0</td>\n",
       "      <td>Friendly</td>\n",
       "      <td>Glasgow</td>\n",
       "      <td>Scotland</td>\n",
       "      <td>False</td>\n",
       "    </tr>\n",
       "    <tr>\n",
       "      <th>1</th>\n",
       "      <td>1873-03-08</td>\n",
       "      <td>England</td>\n",
       "      <td>Scotland</td>\n",
       "      <td>4</td>\n",
       "      <td>2</td>\n",
       "      <td>Friendly</td>\n",
       "      <td>London</td>\n",
       "      <td>England</td>\n",
       "      <td>False</td>\n",
       "    </tr>\n",
       "    <tr>\n",
       "      <th>2</th>\n",
       "      <td>1874-03-07</td>\n",
       "      <td>Scotland</td>\n",
       "      <td>England</td>\n",
       "      <td>2</td>\n",
       "      <td>1</td>\n",
       "      <td>Friendly</td>\n",
       "      <td>Glasgow</td>\n",
       "      <td>Scotland</td>\n",
       "      <td>False</td>\n",
       "    </tr>\n",
       "    <tr>\n",
       "      <th>3</th>\n",
       "      <td>1875-03-06</td>\n",
       "      <td>England</td>\n",
       "      <td>Scotland</td>\n",
       "      <td>2</td>\n",
       "      <td>2</td>\n",
       "      <td>Friendly</td>\n",
       "      <td>London</td>\n",
       "      <td>England</td>\n",
       "      <td>False</td>\n",
       "    </tr>\n",
       "    <tr>\n",
       "      <th>4</th>\n",
       "      <td>1876-03-04</td>\n",
       "      <td>Scotland</td>\n",
       "      <td>England</td>\n",
       "      <td>3</td>\n",
       "      <td>0</td>\n",
       "      <td>Friendly</td>\n",
       "      <td>Glasgow</td>\n",
       "      <td>Scotland</td>\n",
       "      <td>False</td>\n",
       "    </tr>\n",
       "    <tr>\n",
       "      <th>...</th>\n",
       "      <td>...</td>\n",
       "      <td>...</td>\n",
       "      <td>...</td>\n",
       "      <td>...</td>\n",
       "      <td>...</td>\n",
       "      <td>...</td>\n",
       "      <td>...</td>\n",
       "      <td>...</td>\n",
       "      <td>...</td>\n",
       "    </tr>\n",
       "    <tr>\n",
       "      <th>43183</th>\n",
       "      <td>2/1/2022</td>\n",
       "      <td>Suriname</td>\n",
       "      <td>Guyana</td>\n",
       "      <td>2</td>\n",
       "      <td>1</td>\n",
       "      <td>Friendly</td>\n",
       "      <td>Paramaribo</td>\n",
       "      <td>Suriname</td>\n",
       "      <td>False</td>\n",
       "    </tr>\n",
       "    <tr>\n",
       "      <th>43184</th>\n",
       "      <td>2/2/2022</td>\n",
       "      <td>Burkina Faso</td>\n",
       "      <td>Senegal</td>\n",
       "      <td>1</td>\n",
       "      <td>3</td>\n",
       "      <td>African Cup of Nations</td>\n",
       "      <td>YaoundÃ©</td>\n",
       "      <td>Cameroon</td>\n",
       "      <td>True</td>\n",
       "    </tr>\n",
       "    <tr>\n",
       "      <th>43185</th>\n",
       "      <td>2/3/2022</td>\n",
       "      <td>Cameroon</td>\n",
       "      <td>Egypt</td>\n",
       "      <td>0</td>\n",
       "      <td>0</td>\n",
       "      <td>African Cup of Nations</td>\n",
       "      <td>YaoundÃ©</td>\n",
       "      <td>Cameroon</td>\n",
       "      <td>False</td>\n",
       "    </tr>\n",
       "    <tr>\n",
       "      <th>43186</th>\n",
       "      <td>2/5/2022</td>\n",
       "      <td>Cameroon</td>\n",
       "      <td>Burkina Faso</td>\n",
       "      <td>3</td>\n",
       "      <td>3</td>\n",
       "      <td>African Cup of Nations</td>\n",
       "      <td>YaoundÃ©</td>\n",
       "      <td>Cameroon</td>\n",
       "      <td>False</td>\n",
       "    </tr>\n",
       "    <tr>\n",
       "      <th>43187</th>\n",
       "      <td>2/6/2022</td>\n",
       "      <td>Senegal</td>\n",
       "      <td>Egypt</td>\n",
       "      <td>0</td>\n",
       "      <td>0</td>\n",
       "      <td>African Cup of Nations</td>\n",
       "      <td>YaoundÃ©</td>\n",
       "      <td>Cameroon</td>\n",
       "      <td>True</td>\n",
       "    </tr>\n",
       "  </tbody>\n",
       "</table>\n",
       "<p>43188 rows × 9 columns</p>\n",
       "</div>"
      ],
      "text/plain": [
       "             date     home_team     away_team  home_score  away_score  \\\n",
       "0      1872-11-30      Scotland       England           0           0   \n",
       "1      1873-03-08       England      Scotland           4           2   \n",
       "2      1874-03-07      Scotland       England           2           1   \n",
       "3      1875-03-06       England      Scotland           2           2   \n",
       "4      1876-03-04      Scotland       England           3           0   \n",
       "...           ...           ...           ...         ...         ...   \n",
       "43183    2/1/2022      Suriname        Guyana           2           1   \n",
       "43184    2/2/2022  Burkina Faso       Senegal           1           3   \n",
       "43185    2/3/2022      Cameroon         Egypt           0           0   \n",
       "43186    2/5/2022      Cameroon  Burkina Faso           3           3   \n",
       "43187    2/6/2022       Senegal         Egypt           0           0   \n",
       "\n",
       "                   tournament        city   country  neutral  \n",
       "0                    Friendly     Glasgow  Scotland    False  \n",
       "1                    Friendly      London   England    False  \n",
       "2                    Friendly     Glasgow  Scotland    False  \n",
       "3                    Friendly      London   England    False  \n",
       "4                    Friendly     Glasgow  Scotland    False  \n",
       "...                       ...         ...       ...      ...  \n",
       "43183                Friendly  Paramaribo  Suriname    False  \n",
       "43184  African Cup of Nations    YaoundÃ©  Cameroon     True  \n",
       "43185  African Cup of Nations    YaoundÃ©  Cameroon    False  \n",
       "43186  African Cup of Nations    YaoundÃ©  Cameroon    False  \n",
       "43187  African Cup of Nations    YaoundÃ©  Cameroon     True  \n",
       "\n",
       "[43188 rows x 9 columns]"
      ]
     },
     "execution_count": 7,
     "metadata": {},
     "output_type": "execute_result"
    }
   ],
   "source": [
    "df"
   ]
  },
  {
   "cell_type": "code",
   "execution_count": null,
   "id": "23929393",
   "metadata": {},
   "outputs": [],
   "source": []
  }
 ],
 "metadata": {
  "kernelspec": {
   "display_name": "Python 3 (ipykernel)",
   "language": "python",
   "name": "python3"
  },
  "language_info": {
   "codemirror_mode": {
    "name": "ipython",
    "version": 3
   },
   "file_extension": ".py",
   "mimetype": "text/x-python",
   "name": "python",
   "nbconvert_exporter": "python",
   "pygments_lexer": "ipython3",
   "version": "3.9.7"
  }
 },
 "nbformat": 4,
 "nbformat_minor": 5
}
