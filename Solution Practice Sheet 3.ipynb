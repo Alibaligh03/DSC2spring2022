{
 "cells": [
  {
   "cell_type": "markdown",
   "id": "d43c09e4",
   "metadata": {
    "toc": true
   },
   "source": [
    "<h1>Table of Contents<span class=\"tocSkip\"></span></h1>\n",
    "<div class=\"toc\"><ul class=\"toc-item\"><li><span><a href=\"#Exercise-1\" data-toc-modified-id=\"Exercise-1-1\">Exercise 1</a></span></li><li><span><a href=\"#Exercise-2\" data-toc-modified-id=\"Exercise-2-2\">Exercise 2</a></span></li><li><span><a href=\"#Exercise-3\" data-toc-modified-id=\"Exercise-3-3\">Exercise 3</a></span></li></ul></div>"
   ]
  },
  {
   "cell_type": "markdown",
   "id": "b04c3644",
   "metadata": {},
   "source": [
    "# Solution Practice Sheet 3"
   ]
  },
  {
   "cell_type": "markdown",
   "id": "5435c76b",
   "metadata": {},
   "source": [
    "##  Exercise 1 "
   ]
  },
  {
   "cell_type": "code",
   "execution_count": 1,
   "id": "6dfd3c4c",
   "metadata": {},
   "outputs": [],
   "source": [
    "import pandas as pd"
   ]
  },
  {
   "cell_type": "code",
   "execution_count": 2,
   "id": "7d95a9e5",
   "metadata": {},
   "outputs": [],
   "source": [
    "df=pd.read_csv(\"results.csv\")"
   ]
  },
  {
   "cell_type": "code",
   "execution_count": 3,
   "id": "0f316eb7",
   "metadata": {},
   "outputs": [
    {
     "data": {
      "text/html": [
       "<div>\n",
       "<style scoped>\n",
       "    .dataframe tbody tr th:only-of-type {\n",
       "        vertical-align: middle;\n",
       "    }\n",
       "\n",
       "    .dataframe tbody tr th {\n",
       "        vertical-align: top;\n",
       "    }\n",
       "\n",
       "    .dataframe thead th {\n",
       "        text-align: right;\n",
       "    }\n",
       "</style>\n",
       "<table border=\"1\" class=\"dataframe\">\n",
       "  <thead>\n",
       "    <tr style=\"text-align: right;\">\n",
       "      <th></th>\n",
       "      <th>date</th>\n",
       "      <th>home_team</th>\n",
       "      <th>away_team</th>\n",
       "      <th>home_score</th>\n",
       "      <th>away_score</th>\n",
       "      <th>tournament</th>\n",
       "      <th>city</th>\n",
       "      <th>country</th>\n",
       "      <th>neutral</th>\n",
       "    </tr>\n",
       "  </thead>\n",
       "  <tbody>\n",
       "    <tr>\n",
       "      <th>0</th>\n",
       "      <td>1872-11-30</td>\n",
       "      <td>Scotland</td>\n",
       "      <td>England</td>\n",
       "      <td>0</td>\n",
       "      <td>0</td>\n",
       "      <td>Friendly</td>\n",
       "      <td>Glasgow</td>\n",
       "      <td>Scotland</td>\n",
       "      <td>False</td>\n",
       "    </tr>\n",
       "    <tr>\n",
       "      <th>1</th>\n",
       "      <td>1873-03-08</td>\n",
       "      <td>England</td>\n",
       "      <td>Scotland</td>\n",
       "      <td>4</td>\n",
       "      <td>2</td>\n",
       "      <td>Friendly</td>\n",
       "      <td>London</td>\n",
       "      <td>England</td>\n",
       "      <td>False</td>\n",
       "    </tr>\n",
       "    <tr>\n",
       "      <th>2</th>\n",
       "      <td>1874-03-07</td>\n",
       "      <td>Scotland</td>\n",
       "      <td>England</td>\n",
       "      <td>2</td>\n",
       "      <td>1</td>\n",
       "      <td>Friendly</td>\n",
       "      <td>Glasgow</td>\n",
       "      <td>Scotland</td>\n",
       "      <td>False</td>\n",
       "    </tr>\n",
       "    <tr>\n",
       "      <th>3</th>\n",
       "      <td>1875-03-06</td>\n",
       "      <td>England</td>\n",
       "      <td>Scotland</td>\n",
       "      <td>2</td>\n",
       "      <td>2</td>\n",
       "      <td>Friendly</td>\n",
       "      <td>London</td>\n",
       "      <td>England</td>\n",
       "      <td>False</td>\n",
       "    </tr>\n",
       "  </tbody>\n",
       "</table>\n",
       "</div>"
      ],
      "text/plain": [
       "         date home_team away_team  home_score  away_score tournament     city  \\\n",
       "0  1872-11-30  Scotland   England           0           0   Friendly  Glasgow   \n",
       "1  1873-03-08   England  Scotland           4           2   Friendly   London   \n",
       "2  1874-03-07  Scotland   England           2           1   Friendly  Glasgow   \n",
       "3  1875-03-06   England  Scotland           2           2   Friendly   London   \n",
       "\n",
       "    country  neutral  \n",
       "0  Scotland    False  \n",
       "1   England    False  \n",
       "2  Scotland    False  \n",
       "3   England    False  "
      ]
     },
     "execution_count": 3,
     "metadata": {},
     "output_type": "execute_result"
    }
   ],
   "source": [
    "df.head(4)"
   ]
  },
  {
   "cell_type": "markdown",
   "id": "0f258615",
   "metadata": {},
   "source": [
    "Adding a column win/lose/tie column: We first create a list of conditions "
   ]
  },
  {
   "cell_type": "code",
   "execution_count": 4,
   "id": "a2c59146",
   "metadata": {},
   "outputs": [],
   "source": [
    "x=df['home_score']-df['away_score']\n",
    "conditions = [\n",
    "    (x<0),\n",
    "    (x>0),\n",
    "    (x==0)\n",
    "    ]"
   ]
  },
  {
   "cell_type": "code",
   "execution_count": 5,
   "id": "b272575c",
   "metadata": {},
   "outputs": [],
   "source": [
    "values= ['win','lose','draw']"
   ]
  },
  {
   "cell_type": "code",
   "execution_count": 6,
   "id": "be4c6d06",
   "metadata": {},
   "outputs": [],
   "source": [
    "import numpy as np"
   ]
  },
  {
   "cell_type": "code",
   "execution_count": 7,
   "id": "0abfd557",
   "metadata": {},
   "outputs": [],
   "source": [
    "df['result'] = np.select(conditions, values)"
   ]
  },
  {
   "cell_type": "code",
   "execution_count": 8,
   "id": "e9e96d31",
   "metadata": {},
   "outputs": [
    {
     "data": {
      "text/html": [
       "<div>\n",
       "<style scoped>\n",
       "    .dataframe tbody tr th:only-of-type {\n",
       "        vertical-align: middle;\n",
       "    }\n",
       "\n",
       "    .dataframe tbody tr th {\n",
       "        vertical-align: top;\n",
       "    }\n",
       "\n",
       "    .dataframe thead th {\n",
       "        text-align: right;\n",
       "    }\n",
       "</style>\n",
       "<table border=\"1\" class=\"dataframe\">\n",
       "  <thead>\n",
       "    <tr style=\"text-align: right;\">\n",
       "      <th></th>\n",
       "      <th>date</th>\n",
       "      <th>home_team</th>\n",
       "      <th>away_team</th>\n",
       "      <th>home_score</th>\n",
       "      <th>away_score</th>\n",
       "      <th>tournament</th>\n",
       "      <th>city</th>\n",
       "      <th>country</th>\n",
       "      <th>neutral</th>\n",
       "      <th>result</th>\n",
       "    </tr>\n",
       "  </thead>\n",
       "  <tbody>\n",
       "    <tr>\n",
       "      <th>0</th>\n",
       "      <td>1872-11-30</td>\n",
       "      <td>Scotland</td>\n",
       "      <td>England</td>\n",
       "      <td>0</td>\n",
       "      <td>0</td>\n",
       "      <td>Friendly</td>\n",
       "      <td>Glasgow</td>\n",
       "      <td>Scotland</td>\n",
       "      <td>False</td>\n",
       "      <td>draw</td>\n",
       "    </tr>\n",
       "    <tr>\n",
       "      <th>1</th>\n",
       "      <td>1873-03-08</td>\n",
       "      <td>England</td>\n",
       "      <td>Scotland</td>\n",
       "      <td>4</td>\n",
       "      <td>2</td>\n",
       "      <td>Friendly</td>\n",
       "      <td>London</td>\n",
       "      <td>England</td>\n",
       "      <td>False</td>\n",
       "      <td>lose</td>\n",
       "    </tr>\n",
       "    <tr>\n",
       "      <th>2</th>\n",
       "      <td>1874-03-07</td>\n",
       "      <td>Scotland</td>\n",
       "      <td>England</td>\n",
       "      <td>2</td>\n",
       "      <td>1</td>\n",
       "      <td>Friendly</td>\n",
       "      <td>Glasgow</td>\n",
       "      <td>Scotland</td>\n",
       "      <td>False</td>\n",
       "      <td>lose</td>\n",
       "    </tr>\n",
       "  </tbody>\n",
       "</table>\n",
       "</div>"
      ],
      "text/plain": [
       "         date home_team away_team  home_score  away_score tournament     city  \\\n",
       "0  1872-11-30  Scotland   England           0           0   Friendly  Glasgow   \n",
       "1  1873-03-08   England  Scotland           4           2   Friendly   London   \n",
       "2  1874-03-07  Scotland   England           2           1   Friendly  Glasgow   \n",
       "\n",
       "    country  neutral result  \n",
       "0  Scotland    False   draw  \n",
       "1   England    False   lose  \n",
       "2  Scotland    False   lose  "
      ]
     },
     "execution_count": 8,
     "metadata": {},
     "output_type": "execute_result"
    }
   ],
   "source": [
    "df.head(3)"
   ]
  },
  {
   "cell_type": "code",
   "execution_count": 9,
   "id": "b21a2030",
   "metadata": {},
   "outputs": [
    {
     "data": {
      "text/plain": [
       "lose    21009\n",
       "win     12224\n",
       "draw     9955\n",
       "Name: result, dtype: int64"
      ]
     },
     "execution_count": 9,
     "metadata": {},
     "output_type": "execute_result"
    }
   ],
   "source": [
    "df['result'].value_counts()"
   ]
  },
  {
   "cell_type": "code",
   "execution_count": 10,
   "id": "ff3674cc",
   "metadata": {},
   "outputs": [
    {
     "data": {
      "text/plain": [
       "lose    0.486455\n",
       "win     0.283042\n",
       "draw    0.230504\n",
       "Name: result, dtype: float64"
      ]
     },
     "execution_count": 10,
     "metadata": {},
     "output_type": "execute_result"
    }
   ],
   "source": [
    "df['result'].value_counts(normalize=True)"
   ]
  },
  {
   "cell_type": "code",
   "execution_count": 11,
   "id": "90a2b616",
   "metadata": {},
   "outputs": [],
   "source": [
    "x=df['result'].value_counts()"
   ]
  },
  {
   "cell_type": "code",
   "execution_count": 12,
   "id": "49fd1f2d",
   "metadata": {},
   "outputs": [],
   "source": [
    "x=np.array(x)"
   ]
  },
  {
   "cell_type": "code",
   "execution_count": 13,
   "id": "82c2dc1f",
   "metadata": {},
   "outputs": [
    {
     "data": {
      "text/plain": [
       "array([21009, 12224,  9955], dtype=int64)"
      ]
     },
     "execution_count": 13,
     "metadata": {},
     "output_type": "execute_result"
    }
   ],
   "source": [
    "x"
   ]
  },
  {
   "cell_type": "code",
   "execution_count": 14,
   "id": "eea69cad",
   "metadata": {},
   "outputs": [],
   "source": [
    "N=x.sum()"
   ]
  },
  {
   "cell_type": "code",
   "execution_count": 15,
   "id": "6d8f2dbc",
   "metadata": {},
   "outputs": [
    {
     "data": {
      "text/plain": [
       "43188"
      ]
     },
     "execution_count": 15,
     "metadata": {},
     "output_type": "execute_result"
    }
   ],
   "source": [
    "N"
   ]
  },
  {
   "cell_type": "code",
   "execution_count": 16,
   "id": "ea8c7ed5",
   "metadata": {},
   "outputs": [],
   "source": [
    "import statsmodels.api as sm\n",
    "from statsmodels.stats.proportion import proportion_confint"
   ]
  },
  {
   "cell_type": "code",
   "execution_count": 17,
   "id": "50f1398f",
   "metadata": {},
   "outputs": [],
   "source": [
    "CI_win=proportion_confint(count=x[1],nobs=N,alpha=(1-.95))"
   ]
  },
  {
   "cell_type": "code",
   "execution_count": 18,
   "id": "caf1ccd8",
   "metadata": {},
   "outputs": [
    {
     "data": {
      "text/plain": [
       "(0.27879305599044235, 0.28729011526083115)"
      ]
     },
     "execution_count": 18,
     "metadata": {},
     "output_type": "execute_result"
    }
   ],
   "source": [
    "CI_win"
   ]
  },
  {
   "cell_type": "code",
   "execution_count": 19,
   "id": "07ed4303",
   "metadata": {},
   "outputs": [],
   "source": [
    "CI_lose=proportion_confint(count=x[0],nobs=N,alpha=(1-.95))"
   ]
  },
  {
   "cell_type": "code",
   "execution_count": 20,
   "id": "15d0340e",
   "metadata": {},
   "outputs": [
    {
     "data": {
      "text/plain": [
       "(0.481740705905987, 0.49116843552218753)"
      ]
     },
     "execution_count": 20,
     "metadata": {},
     "output_type": "execute_result"
    }
   ],
   "source": [
    "CI_lose"
   ]
  },
  {
   "cell_type": "code",
   "execution_count": 21,
   "id": "02c70c5a",
   "metadata": {},
   "outputs": [],
   "source": [
    "CI_draw=proportion_confint(count=x[2],nobs=N,alpha=(1-.95))"
   ]
  },
  {
   "cell_type": "code",
   "execution_count": 22,
   "id": "a632d992",
   "metadata": {},
   "outputs": [
    {
     "data": {
      "text/plain": [
       "(0.2265318471530234, 0.23447584016752862)"
      ]
     },
     "execution_count": 22,
     "metadata": {},
     "output_type": "execute_result"
    }
   ],
   "source": [
    "CI_draw"
   ]
  },
  {
   "cell_type": "code",
   "execution_count": 23,
   "id": "5cc63253",
   "metadata": {},
   "outputs": [
    {
     "data": {
      "text/plain": [
       "array(['Scotland', 'England', 'Wales', 'Ireland', 'United States',\n",
       "       'Uruguay', 'Austria', 'Hungary', 'Argentina', 'Belgium', 'France',\n",
       "       'Netherlands', 'Bohemia', 'Switzerland', 'Sweden', 'Germany',\n",
       "       'Italy', 'Chile', 'Norway', 'Finland', 'Luxembourg', 'Russia',\n",
       "       'Denmark', 'Spain', 'Japan', 'Brazil', 'Paraguay', 'China PR',\n",
       "       'Canada', 'Estonia', 'Guatemala', 'Czechoslovakia', 'Poland',\n",
       "       'Yugoslavia', 'New Zealand', 'Romania', 'Latvia', 'Portugal',\n",
       "       'Northern Ireland', 'Australia', 'Lithuania', 'Turkey', 'Mexico',\n",
       "       'Aruba', 'Soviet Union', 'Haiti', 'Philippines', 'Bulgaria',\n",
       "       'Jamaica', 'Kenya', 'Czech Republic', 'Peru', 'Honduras',\n",
       "       'British Guyana', 'Uganda', 'El Salvador', 'Barbados',\n",
       "       'Irish Free State', 'Trinidad and Tobago', 'Greece', 'Curaçao',\n",
       "       'Egypt', 'Dominica', 'Guadeloupe', 'Palestine',\n",
       "       'Netherlands Guyana', 'French Guiana', 'Cuba', 'Colombia',\n",
       "       'Saint Kitts and Nevis', 'Éire', 'Panama', 'Bohemia and Moravia',\n",
       "       'Slovakia', 'Manchuria', 'Croatia', 'Costa Rica', 'Afghanistan',\n",
       "       'Martinique', 'Southern Rhodesia', 'Iceland', 'Albania',\n",
       "       'Madagascar', 'Northern Rhodesia', 'Tanganyika', 'Iran', 'Ecuador',\n",
       "       'French Somaliland', 'Belgian Congo', 'Mauritius', 'Hong Kong',\n",
       "       'Vietnam', 'Macau', 'Republic of Ireland', 'Ethiopia', 'Suriname',\n",
       "       'Puerto Rico', 'Réunion', 'Israel', 'Sierra Leone', 'Zanzibar',\n",
       "       'Bolivia', 'Gold Coast', 'South Africa', 'Netherlands Antilles',\n",
       "       'New Caledonia', 'Fiji', 'Nigeria', 'Venezuela', 'Ceylon',\n",
       "       'French Polynesia', 'Gambia', 'Singapore', 'Portuguese Guinea',\n",
       "       'German DR', 'New Hebrides', 'Burma', 'Saarland', 'Cambodia',\n",
       "       'India', 'Lebanon', 'Pakistan', 'Malaya', 'South Korea',\n",
       "       'Vietnam Republic', 'Togo', 'Indonesia', 'Sudan', 'Malta', 'Syria',\n",
       "       'Tunisia', 'Nyasaland', 'Ghana', 'Morocco', 'United Arab Republic',\n",
       "       'North Korea', 'Dahomey', 'Guinea-Bissau', 'Mali Federation',\n",
       "       'Mali', 'Vietnam DR', 'Cyprus', 'Iraq', 'Saint Lucia', 'Senegal',\n",
       "       'Libya', 'Gabon', 'Thailand', 'Congo', 'Tanzania', 'Grenada',\n",
       "       'Guinea', 'Central African Republic', 'Cameroon', 'Algeria',\n",
       "       'Kuwait', 'Ivory Coast', 'Lautoka', 'Liberia', 'Malaysia',\n",
       "       'Jordan', 'Zambia', 'Saint Vincent and the Grenadines', 'Bermuda',\n",
       "       'Niger', 'Malawi', 'DR Congo', 'Upper Volta', 'Taiwan', 'Guyana',\n",
       "       'Mauritania', 'Rhodesia', 'Saudi Arabia', 'Eswatini', 'Mozambique',\n",
       "       'Papua New Guinea', 'Bahrain', 'Lesotho', 'Somalia', 'Zaïre',\n",
       "       'Sri Lanka', 'Antigua and Barbuda', 'Faroe Islands', 'Qatar',\n",
       "       'Yemen DPR', 'Burundi', 'Guam', 'Chad', 'Angola',\n",
       "       'Dominican Republic', 'Seychelles', 'São Tomé and Príncipe',\n",
       "       'Botswana', 'Benin', 'Rwanda', 'Bangladesh',\n",
       "       'United Arab Emirates', 'Zimbabwe', 'Oman', 'Equatorial Guinea',\n",
       "       'Cape Verde', 'Liechtenstein', 'Nepal', 'Greenland', 'Vanuatu',\n",
       "       'Western Samoa', 'Belize', 'Brunei', 'Djibouti', 'Burkina Faso',\n",
       "       'Yemen AR', 'Anguilla', 'Nicaragua', 'Cayman Islands', 'Monaco',\n",
       "       'Solomon Islands', 'Sint Maarten', 'Namibia', 'Saint Martin',\n",
       "       'San Marino', 'Slovenia', 'Moldova', 'Ukraine', 'Kazakhstan',\n",
       "       'Tajikistan', 'Uzbekistan', 'Turkmenistan', 'Georgia',\n",
       "       'Kyrgyzstan', 'Armenia', 'Belarus', 'Guernsey', 'Azerbaijan',\n",
       "       'North Macedonia', 'Jersey', 'Montserrat', 'Gibraltar', 'Myanmar',\n",
       "       'Bosnia and Herzegovina', 'Tonga', 'Andorra', 'Yemen',\n",
       "       'United States Virgin Islands', 'Palau', 'Cook Islands',\n",
       "       'British Virgin Islands', 'Eritrea', 'Bahamas', 'Micronesia',\n",
       "       'Maldives', 'Laos', 'Isle of Man', 'Samoa', 'Bhutan',\n",
       "       'Serbia and Montenegro', 'Mayotte', 'Mongolia', 'Northern Cyprus',\n",
       "       'Serbia', 'Montenegro', 'Northern Mariana Islands', 'Comoros',\n",
       "       'Turks and Caicos Islands', 'South Sudan', 'Kosovo', 'East Timor',\n",
       "       'Tahiti'], dtype=object)"
      ]
     },
     "execution_count": 23,
     "metadata": {},
     "output_type": "execute_result"
    }
   ],
   "source": [
    "df['country'].unique()"
   ]
  },
  {
   "cell_type": "code",
   "execution_count": 24,
   "id": "40171e12",
   "metadata": {},
   "outputs": [],
   "source": [
    "dfegy=df[df['country']=='Egypt']"
   ]
  },
  {
   "cell_type": "code",
   "execution_count": 25,
   "id": "dd7dba7d",
   "metadata": {},
   "outputs": [
    {
     "data": {
      "text/html": [
       "<div>\n",
       "<style scoped>\n",
       "    .dataframe tbody tr th:only-of-type {\n",
       "        vertical-align: middle;\n",
       "    }\n",
       "\n",
       "    .dataframe tbody tr th {\n",
       "        vertical-align: top;\n",
       "    }\n",
       "\n",
       "    .dataframe thead th {\n",
       "        text-align: right;\n",
       "    }\n",
       "</style>\n",
       "<table border=\"1\" class=\"dataframe\">\n",
       "  <thead>\n",
       "    <tr style=\"text-align: right;\">\n",
       "      <th></th>\n",
       "      <th>date</th>\n",
       "      <th>home_team</th>\n",
       "      <th>away_team</th>\n",
       "      <th>home_score</th>\n",
       "      <th>away_score</th>\n",
       "      <th>tournament</th>\n",
       "      <th>city</th>\n",
       "      <th>country</th>\n",
       "      <th>neutral</th>\n",
       "      <th>result</th>\n",
       "    </tr>\n",
       "  </thead>\n",
       "  <tbody>\n",
       "    <tr>\n",
       "      <th>1463</th>\n",
       "      <td>2/19/1932</td>\n",
       "      <td>Egypt</td>\n",
       "      <td>Hungary</td>\n",
       "      <td>0</td>\n",
       "      <td>0</td>\n",
       "      <td>Friendly</td>\n",
       "      <td>Cairo</td>\n",
       "      <td>Egypt</td>\n",
       "      <td>False</td>\n",
       "      <td>draw</td>\n",
       "    </tr>\n",
       "    <tr>\n",
       "      <th>1661</th>\n",
       "      <td>3/16/1934</td>\n",
       "      <td>Egypt</td>\n",
       "      <td>Israel</td>\n",
       "      <td>7</td>\n",
       "      <td>1</td>\n",
       "      <td>FIFA World Cup qualification</td>\n",
       "      <td>Cairo</td>\n",
       "      <td>Egypt</td>\n",
       "      <td>False</td>\n",
       "      <td>lose</td>\n",
       "    </tr>\n",
       "    <tr>\n",
       "      <th>1895</th>\n",
       "      <td>6/19/1936</td>\n",
       "      <td>Egypt</td>\n",
       "      <td>Greece</td>\n",
       "      <td>3</td>\n",
       "      <td>1</td>\n",
       "      <td>Friendly</td>\n",
       "      <td>Cairo</td>\n",
       "      <td>Egypt</td>\n",
       "      <td>False</td>\n",
       "      <td>lose</td>\n",
       "    </tr>\n",
       "    <tr>\n",
       "      <th>2927</th>\n",
       "      <td>12/24/1948</td>\n",
       "      <td>Egypt</td>\n",
       "      <td>Norway</td>\n",
       "      <td>1</td>\n",
       "      <td>1</td>\n",
       "      <td>Friendly</td>\n",
       "      <td>Cairo</td>\n",
       "      <td>Egypt</td>\n",
       "      <td>False</td>\n",
       "      <td>draw</td>\n",
       "    </tr>\n",
       "    <tr>\n",
       "      <th>3080</th>\n",
       "      <td>2/17/1950</td>\n",
       "      <td>Egypt</td>\n",
       "      <td>Greece</td>\n",
       "      <td>2</td>\n",
       "      <td>0</td>\n",
       "      <td>Friendly</td>\n",
       "      <td>Cairo</td>\n",
       "      <td>Egypt</td>\n",
       "      <td>False</td>\n",
       "      <td>lose</td>\n",
       "    </tr>\n",
       "  </tbody>\n",
       "</table>\n",
       "</div>"
      ],
      "text/plain": [
       "            date home_team away_team  home_score  away_score  \\\n",
       "1463   2/19/1932     Egypt   Hungary           0           0   \n",
       "1661   3/16/1934     Egypt    Israel           7           1   \n",
       "1895   6/19/1936     Egypt    Greece           3           1   \n",
       "2927  12/24/1948     Egypt    Norway           1           1   \n",
       "3080   2/17/1950     Egypt    Greece           2           0   \n",
       "\n",
       "                        tournament   city country  neutral result  \n",
       "1463                      Friendly  Cairo   Egypt    False   draw  \n",
       "1661  FIFA World Cup qualification  Cairo   Egypt    False   lose  \n",
       "1895                      Friendly  Cairo   Egypt    False   lose  \n",
       "2927                      Friendly  Cairo   Egypt    False   draw  \n",
       "3080                      Friendly  Cairo   Egypt    False   lose  "
      ]
     },
     "execution_count": 25,
     "metadata": {},
     "output_type": "execute_result"
    }
   ],
   "source": [
    "dfegy.head()"
   ]
  },
  {
   "cell_type": "markdown",
   "id": "d73ff657",
   "metadata": {},
   "source": [
    "Create a variable type of the match  `friendly/No friendly` and `home/away` match"
   ]
  },
  {
   "cell_type": "code",
   "execution_count": 26,
   "id": "8dd582a4",
   "metadata": {},
   "outputs": [],
   "source": [
    "conditions = [\n",
    "    (dfegy['tournament']=='Friendly'),\n",
    "    (dfegy['tournament']!='Friendly')\n",
    "    ]"
   ]
  },
  {
   "cell_type": "code",
   "execution_count": 27,
   "id": "e71c98f8",
   "metadata": {},
   "outputs": [],
   "source": [
    "values=['Friendly','Official']"
   ]
  },
  {
   "cell_type": "code",
   "execution_count": 28,
   "id": "489e18e3",
   "metadata": {},
   "outputs": [
    {
     "name": "stderr",
     "output_type": "stream",
     "text": [
      "C:\\Users\\dhafe\\AppData\\Local\\Temp/ipykernel_24812/2597929672.py:1: SettingWithCopyWarning: \n",
      "A value is trying to be set on a copy of a slice from a DataFrame.\n",
      "Try using .loc[row_indexer,col_indexer] = value instead\n",
      "\n",
      "See the caveats in the documentation: https://pandas.pydata.org/pandas-docs/stable/user_guide/indexing.html#returning-a-view-versus-a-copy\n",
      "  dfegy['typematch'] = np.select(conditions, values)\n"
     ]
    }
   ],
   "source": [
    "dfegy['typematch'] = np.select(conditions, values)"
   ]
  },
  {
   "cell_type": "code",
   "execution_count": 29,
   "id": "585d2d5b",
   "metadata": {},
   "outputs": [
    {
     "data": {
      "text/plain": [
       "Official    226\n",
       "Friendly    181\n",
       "Name: typematch, dtype: int64"
      ]
     },
     "execution_count": 29,
     "metadata": {},
     "output_type": "execute_result"
    }
   ],
   "source": [
    "dfegy['typematch'].value_counts()"
   ]
  },
  {
   "cell_type": "markdown",
   "id": "0dc6b058",
   "metadata": {},
   "source": [
    "Comparing the probability of win/lose/draw by type of match "
   ]
  },
  {
   "cell_type": "code",
   "execution_count": 30,
   "id": "38e45dbf",
   "metadata": {},
   "outputs": [
    {
     "data": {
      "text/html": [
       "<div>\n",
       "<style scoped>\n",
       "    .dataframe tbody tr th:only-of-type {\n",
       "        vertical-align: middle;\n",
       "    }\n",
       "\n",
       "    .dataframe tbody tr th {\n",
       "        vertical-align: top;\n",
       "    }\n",
       "\n",
       "    .dataframe thead th {\n",
       "        text-align: right;\n",
       "    }\n",
       "</style>\n",
       "<table border=\"1\" class=\"dataframe\">\n",
       "  <thead>\n",
       "    <tr style=\"text-align: right;\">\n",
       "      <th>result</th>\n",
       "      <th>draw</th>\n",
       "      <th>lose</th>\n",
       "      <th>win</th>\n",
       "      <th>All</th>\n",
       "    </tr>\n",
       "    <tr>\n",
       "      <th>typematch</th>\n",
       "      <th></th>\n",
       "      <th></th>\n",
       "      <th></th>\n",
       "      <th></th>\n",
       "    </tr>\n",
       "  </thead>\n",
       "  <tbody>\n",
       "    <tr>\n",
       "      <th>Friendly</th>\n",
       "      <td>37</td>\n",
       "      <td>99</td>\n",
       "      <td>45</td>\n",
       "      <td>181</td>\n",
       "    </tr>\n",
       "    <tr>\n",
       "      <th>Official</th>\n",
       "      <td>40</td>\n",
       "      <td>139</td>\n",
       "      <td>47</td>\n",
       "      <td>226</td>\n",
       "    </tr>\n",
       "    <tr>\n",
       "      <th>All</th>\n",
       "      <td>77</td>\n",
       "      <td>238</td>\n",
       "      <td>92</td>\n",
       "      <td>407</td>\n",
       "    </tr>\n",
       "  </tbody>\n",
       "</table>\n",
       "</div>"
      ],
      "text/plain": [
       "result     draw  lose  win  All\n",
       "typematch                      \n",
       "Friendly     37    99   45  181\n",
       "Official     40   139   47  226\n",
       "All          77   238   92  407"
      ]
     },
     "execution_count": 30,
     "metadata": {},
     "output_type": "execute_result"
    }
   ],
   "source": [
    "x=pd.crosstab(dfegy['typematch'],dfegy['result'],margins=True)\n",
    "x"
   ]
  },
  {
   "cell_type": "code",
   "execution_count": 31,
   "id": "a944b620",
   "metadata": {},
   "outputs": [
    {
     "data": {
      "text/plain": [
       "array([[ 37,  99,  45, 181],\n",
       "       [ 40, 139,  47, 226],\n",
       "       [ 77, 238,  92, 407]], dtype=int64)"
      ]
     },
     "execution_count": 31,
     "metadata": {},
     "output_type": "execute_result"
    }
   ],
   "source": [
    "x=np.array(x)\n",
    "x"
   ]
  },
  {
   "cell_type": "code",
   "execution_count": 32,
   "id": "04b11481",
   "metadata": {},
   "outputs": [
    {
     "data": {
      "text/plain": [
       "(0.1856528084886489, 0.3115847605721246)"
      ]
     },
     "execution_count": 32,
     "metadata": {},
     "output_type": "execute_result"
    }
   ],
   "source": [
    "CI_egywin_friendly=proportion_confint(count=x[0,2],nobs=x[0,3],alpha=(1-.95))\n",
    "CI_egywin_friendly\n",
    "                                                          "
   ]
  },
  {
   "cell_type": "code",
   "execution_count": 33,
   "id": "b12f836b",
   "metadata": {},
   "outputs": [
    {
     "data": {
      "text/plain": [
       "(0.1550517855722795, 0.2608774179675435)"
      ]
     },
     "execution_count": 33,
     "metadata": {},
     "output_type": "execute_result"
    }
   ],
   "source": [
    "CI_egywin_official=proportion_confint(count=x[1,2],nobs=x[1,3],alpha=(1-.95))\n",
    "CI_egywin_official"
   ]
  },
  {
   "cell_type": "markdown",
   "id": "69e2f933",
   "metadata": {},
   "source": [
    "Plotting the Confidence intervals "
   ]
  },
  {
   "cell_type": "code",
   "execution_count": 34,
   "id": "d00232ab",
   "metadata": {},
   "outputs": [
    {
     "data": {
      "text/html": [
       "<div>\n",
       "<style scoped>\n",
       "    .dataframe tbody tr th:only-of-type {\n",
       "        vertical-align: middle;\n",
       "    }\n",
       "\n",
       "    .dataframe tbody tr th {\n",
       "        vertical-align: top;\n",
       "    }\n",
       "\n",
       "    .dataframe thead th {\n",
       "        text-align: right;\n",
       "    }\n",
       "</style>\n",
       "<table border=\"1\" class=\"dataframe\">\n",
       "  <thead>\n",
       "    <tr style=\"text-align: right;\">\n",
       "      <th></th>\n",
       "      <th>Typematch</th>\n",
       "      <th>lb</th>\n",
       "      <th>ub</th>\n",
       "    </tr>\n",
       "  </thead>\n",
       "  <tbody>\n",
       "    <tr>\n",
       "      <th>0</th>\n",
       "      <td>Friendly</td>\n",
       "      <td>0.185653</td>\n",
       "      <td>0.311585</td>\n",
       "    </tr>\n",
       "    <tr>\n",
       "      <th>1</th>\n",
       "      <td>Official</td>\n",
       "      <td>0.155052</td>\n",
       "      <td>0.260877</td>\n",
       "    </tr>\n",
       "  </tbody>\n",
       "</table>\n",
       "</div>"
      ],
      "text/plain": [
       "  Typematch        lb        ub\n",
       "0  Friendly  0.185653  0.311585\n",
       "1  Official  0.155052  0.260877"
      ]
     },
     "execution_count": 34,
     "metadata": {},
     "output_type": "execute_result"
    }
   ],
   "source": [
    "ci_egywin = {}\n",
    "ci_egywin['Typematch'] = ['Friendly','Official']\n",
    "ci_egywin['lb'] = [CI_egywin_friendly[0],CI_egywin_official[0]]\n",
    "ci_egywin['ub'] = [CI_egywin_friendly[1],CI_egywin_official[1]]\n",
    "df_ci= pd.DataFrame(ci_egywin)\n",
    "df_ci"
   ]
  },
  {
   "cell_type": "code",
   "execution_count": 35,
   "id": "91240480",
   "metadata": {},
   "outputs": [
    {
     "data": {
      "text/plain": [
       "([<matplotlib.axis.YTick at 0x1d7d5b889a0>,\n",
       "  <matplotlib.axis.YTick at 0x1d7d5b73d30>],\n",
       " [Text(0, 0, 'Friendly'), Text(0, 1, 'Official')])"
      ]
     },
     "execution_count": 35,
     "metadata": {},
     "output_type": "execute_result"
    },
    {
     "data": {
      "image/png": "[encoded data removed]",
      "text/plain": [
       "<Figure size 432x288 with 1 Axes>"
      ]
     },
     "metadata": {
      "needs_background": "light"
     },
     "output_type": "display_data"
    }
   ],
   "source": [
    "import matplotlib.pyplot as plt\n",
    "for lb,ub,y in zip(df_ci['lb'],df_ci['ub'],range(len(df_ci))):\n",
    "    plt.plot((lb,ub),(y,y),'ro-')\n",
    "plt.yticks(range(len(df_ci)),list(df_ci['Typematch']))"
   ]
  },
  {
   "cell_type": "markdown",
   "id": "9d6f0e83",
   "metadata": {},
   "source": [
    "Let's now check out the impact of fans on the match results. We will compare the probability of winning between home matches and away matches."
   ]
  },
  {
   "cell_type": "code",
   "execution_count": 36,
   "id": "a2781059",
   "metadata": {},
   "outputs": [
    {
     "name": "stderr",
     "output_type": "stream",
     "text": [
      "C:\\Users\\dhafe\\AppData\\Local\\Temp/ipykernel_24812/2175071764.py:1: SettingWithCopyWarning: \n",
      "A value is trying to be set on a copy of a slice from a DataFrame.\n",
      "Try using .loc[row_indexer,col_indexer] = value instead\n",
      "\n",
      "See the caveats in the documentation: https://pandas.pydata.org/pandas-docs/stable/user_guide/indexing.html#returning-a-view-versus-a-copy\n",
      "  dfegy['home']=(dfegy['home_team']=='Egypt')\n"
     ]
    }
   ],
   "source": [
    "dfegy['home']=(dfegy['home_team']=='Egypt')"
   ]
  },
  {
   "cell_type": "code",
   "execution_count": 37,
   "id": "4089b6e8",
   "metadata": {},
   "outputs": [
    {
     "data": {
      "text/plain": [
       "True     258\n",
       "False    149\n",
       "Name: home, dtype: int64"
      ]
     },
     "execution_count": 37,
     "metadata": {},
     "output_type": "execute_result"
    }
   ],
   "source": [
    "dfegy['home'].value_counts()"
   ]
  },
  {
   "cell_type": "code",
   "execution_count": 38,
   "id": "520e2851",
   "metadata": {},
   "outputs": [
    {
     "data": {
      "text/html": [
       "<div>\n",
       "<style scoped>\n",
       "    .dataframe tbody tr th:only-of-type {\n",
       "        vertical-align: middle;\n",
       "    }\n",
       "\n",
       "    .dataframe tbody tr th {\n",
       "        vertical-align: top;\n",
       "    }\n",
       "\n",
       "    .dataframe thead th {\n",
       "        text-align: right;\n",
       "    }\n",
       "</style>\n",
       "<table border=\"1\" class=\"dataframe\">\n",
       "  <thead>\n",
       "    <tr style=\"text-align: right;\">\n",
       "      <th>result</th>\n",
       "      <th>draw</th>\n",
       "      <th>lose</th>\n",
       "      <th>win</th>\n",
       "      <th>All</th>\n",
       "    </tr>\n",
       "    <tr>\n",
       "      <th>home</th>\n",
       "      <th></th>\n",
       "      <th></th>\n",
       "      <th></th>\n",
       "      <th></th>\n",
       "    </tr>\n",
       "  </thead>\n",
       "  <tbody>\n",
       "    <tr>\n",
       "      <th>False</th>\n",
       "      <td>33</td>\n",
       "      <td>67</td>\n",
       "      <td>49</td>\n",
       "      <td>149</td>\n",
       "    </tr>\n",
       "    <tr>\n",
       "      <th>True</th>\n",
       "      <td>44</td>\n",
       "      <td>171</td>\n",
       "      <td>43</td>\n",
       "      <td>258</td>\n",
       "    </tr>\n",
       "    <tr>\n",
       "      <th>All</th>\n",
       "      <td>77</td>\n",
       "      <td>238</td>\n",
       "      <td>92</td>\n",
       "      <td>407</td>\n",
       "    </tr>\n",
       "  </tbody>\n",
       "</table>\n",
       "</div>"
      ],
      "text/plain": [
       "result  draw  lose  win  All\n",
       "home                        \n",
       "False     33    67   49  149\n",
       "True      44   171   43  258\n",
       "All       77   238   92  407"
      ]
     },
     "execution_count": 38,
     "metadata": {},
     "output_type": "execute_result"
    }
   ],
   "source": [
    "x=pd.crosstab(dfegy['home'],dfegy['result'],margins=True)\n",
    "x"
   ]
  },
  {
   "cell_type": "code",
   "execution_count": 39,
   "id": "e97f5af4",
   "metadata": {
    "scrolled": true
   },
   "outputs": [
    {
     "data": {
      "text/html": [
       "<div>\n",
       "<style scoped>\n",
       "    .dataframe tbody tr th:only-of-type {\n",
       "        vertical-align: middle;\n",
       "    }\n",
       "\n",
       "    .dataframe tbody tr th {\n",
       "        vertical-align: top;\n",
       "    }\n",
       "\n",
       "    .dataframe thead th {\n",
       "        text-align: right;\n",
       "    }\n",
       "</style>\n",
       "<table border=\"1\" class=\"dataframe\">\n",
       "  <thead>\n",
       "    <tr style=\"text-align: right;\">\n",
       "      <th></th>\n",
       "      <th>date</th>\n",
       "      <th>home_team</th>\n",
       "      <th>away_team</th>\n",
       "      <th>home_score</th>\n",
       "      <th>away_score</th>\n",
       "      <th>tournament</th>\n",
       "      <th>city</th>\n",
       "      <th>country</th>\n",
       "      <th>neutral</th>\n",
       "      <th>result</th>\n",
       "      <th>typematch</th>\n",
       "      <th>home</th>\n",
       "    </tr>\n",
       "  </thead>\n",
       "  <tbody>\n",
       "    <tr>\n",
       "      <th>1463</th>\n",
       "      <td>2/19/1932</td>\n",
       "      <td>Egypt</td>\n",
       "      <td>Hungary</td>\n",
       "      <td>0</td>\n",
       "      <td>0</td>\n",
       "      <td>Friendly</td>\n",
       "      <td>Cairo</td>\n",
       "      <td>Egypt</td>\n",
       "      <td>False</td>\n",
       "      <td>draw</td>\n",
       "      <td>Friendly</td>\n",
       "      <td>True</td>\n",
       "    </tr>\n",
       "    <tr>\n",
       "      <th>1661</th>\n",
       "      <td>3/16/1934</td>\n",
       "      <td>Egypt</td>\n",
       "      <td>Israel</td>\n",
       "      <td>7</td>\n",
       "      <td>1</td>\n",
       "      <td>FIFA World Cup qualification</td>\n",
       "      <td>Cairo</td>\n",
       "      <td>Egypt</td>\n",
       "      <td>False</td>\n",
       "      <td>lose</td>\n",
       "      <td>Official</td>\n",
       "      <td>True</td>\n",
       "    </tr>\n",
       "    <tr>\n",
       "      <th>1895</th>\n",
       "      <td>6/19/1936</td>\n",
       "      <td>Egypt</td>\n",
       "      <td>Greece</td>\n",
       "      <td>3</td>\n",
       "      <td>1</td>\n",
       "      <td>Friendly</td>\n",
       "      <td>Cairo</td>\n",
       "      <td>Egypt</td>\n",
       "      <td>False</td>\n",
       "      <td>lose</td>\n",
       "      <td>Friendly</td>\n",
       "      <td>True</td>\n",
       "    </tr>\n",
       "    <tr>\n",
       "      <th>2927</th>\n",
       "      <td>12/24/1948</td>\n",
       "      <td>Egypt</td>\n",
       "      <td>Norway</td>\n",
       "      <td>1</td>\n",
       "      <td>1</td>\n",
       "      <td>Friendly</td>\n",
       "      <td>Cairo</td>\n",
       "      <td>Egypt</td>\n",
       "      <td>False</td>\n",
       "      <td>draw</td>\n",
       "      <td>Friendly</td>\n",
       "      <td>True</td>\n",
       "    </tr>\n",
       "  </tbody>\n",
       "</table>\n",
       "</div>"
      ],
      "text/plain": [
       "            date home_team away_team  home_score  away_score  \\\n",
       "1463   2/19/1932     Egypt   Hungary           0           0   \n",
       "1661   3/16/1934     Egypt    Israel           7           1   \n",
       "1895   6/19/1936     Egypt    Greece           3           1   \n",
       "2927  12/24/1948     Egypt    Norway           1           1   \n",
       "\n",
       "                        tournament   city country  neutral result typematch  \\\n",
       "1463                      Friendly  Cairo   Egypt    False   draw  Friendly   \n",
       "1661  FIFA World Cup qualification  Cairo   Egypt    False   lose  Official   \n",
       "1895                      Friendly  Cairo   Egypt    False   lose  Friendly   \n",
       "2927                      Friendly  Cairo   Egypt    False   draw  Friendly   \n",
       "\n",
       "      home  \n",
       "1463  True  \n",
       "1661  True  \n",
       "1895  True  \n",
       "2927  True  "
      ]
     },
     "execution_count": 39,
     "metadata": {},
     "output_type": "execute_result"
    }
   ],
   "source": [
    "dfegy.head(4)"
   ]
  },
  {
   "cell_type": "code",
   "execution_count": 40,
   "id": "2caf859e",
   "metadata": {},
   "outputs": [
    {
     "data": {
      "text/plain": [
       "array([[ 33,  67,  49, 149],\n",
       "       [ 44, 171,  43, 258],\n",
       "       [ 77, 238,  92, 407]], dtype=int64)"
      ]
     },
     "execution_count": 40,
     "metadata": {},
     "output_type": "execute_result"
    }
   ],
   "source": [
    "x=np.array(x)\n",
    "x"
   ]
  },
  {
   "cell_type": "code",
   "execution_count": 41,
   "id": "279399a0",
   "metadata": {},
   "outputs": [
    {
     "data": {
      "text/plain": [
       "(0.12119174183927744, 0.21214159149405587)"
      ]
     },
     "execution_count": 41,
     "metadata": {},
     "output_type": "execute_result"
    }
   ],
   "source": [
    "CI_egywin_home=proportion_confint(count=x[1,2],nobs=x[1,3],alpha=(1-.95))\n",
    "CI_egywin_home"
   ]
  },
  {
   "cell_type": "code",
   "execution_count": 42,
   "id": "2b06e063",
   "metadata": {},
   "outputs": [
    {
     "data": {
      "text/plain": [
       "(0.25342513144684364, 0.40429298935852553)"
      ]
     },
     "execution_count": 42,
     "metadata": {},
     "output_type": "execute_result"
    }
   ],
   "source": [
    "CI_egywin_away=proportion_confint(count=x[0,2],nobs=x[0,3],alpha=(1-.95))\n",
    "CI_egywin_away"
   ]
  },
  {
   "cell_type": "code",
   "execution_count": 43,
   "id": "80fc43d2",
   "metadata": {},
   "outputs": [
    {
     "data": {
      "text/html": [
       "<div>\n",
       "<style scoped>\n",
       "    .dataframe tbody tr th:only-of-type {\n",
       "        vertical-align: middle;\n",
       "    }\n",
       "\n",
       "    .dataframe tbody tr th {\n",
       "        vertical-align: top;\n",
       "    }\n",
       "\n",
       "    .dataframe thead th {\n",
       "        text-align: right;\n",
       "    }\n",
       "</style>\n",
       "<table border=\"1\" class=\"dataframe\">\n",
       "  <thead>\n",
       "    <tr style=\"text-align: right;\">\n",
       "      <th></th>\n",
       "      <th>home</th>\n",
       "      <th>lb</th>\n",
       "      <th>ub</th>\n",
       "    </tr>\n",
       "  </thead>\n",
       "  <tbody>\n",
       "    <tr>\n",
       "      <th>0</th>\n",
       "      <td>Yes</td>\n",
       "      <td>0.121192</td>\n",
       "      <td>0.212142</td>\n",
       "    </tr>\n",
       "    <tr>\n",
       "      <th>1</th>\n",
       "      <td>No</td>\n",
       "      <td>0.253425</td>\n",
       "      <td>0.404293</td>\n",
       "    </tr>\n",
       "  </tbody>\n",
       "</table>\n",
       "</div>"
      ],
      "text/plain": [
       "  home        lb        ub\n",
       "0  Yes  0.121192  0.212142\n",
       "1   No  0.253425  0.404293"
      ]
     },
     "execution_count": 43,
     "metadata": {},
     "output_type": "execute_result"
    }
   ],
   "source": [
    "ci_egywin = {}\n",
    "ci_egywin['home'] = ['Yes','No']\n",
    "ci_egywin['lb'] = [CI_egywin_home[0],CI_egywin_away[0]]\n",
    "ci_egywin['ub'] = [CI_egywin_home[1],CI_egywin_away[1]]\n",
    "df_ci= pd.DataFrame(ci_egywin)\n",
    "df_ci"
   ]
  },
  {
   "cell_type": "code",
   "execution_count": 44,
   "id": "a0aa51d3",
   "metadata": {},
   "outputs": [
    {
     "data": {
      "text/plain": [
       "([<matplotlib.axis.YTick at 0x1d7d6339c70>,\n",
       "  <matplotlib.axis.YTick at 0x1d7d6339b20>],\n",
       " [Text(0, 0, 'Yes'), Text(0, 1, 'No')])"
      ]
     },
     "execution_count": 44,
     "metadata": {},
     "output_type": "execute_result"
    },
    {
     "data": {
      "image/png": "[encoded data removed]",
      "text/plain": [
       "<Figure size 432x288 with 1 Axes>"
      ]
     },
     "metadata": {
      "needs_background": "light"
     },
     "output_type": "display_data"
    }
   ],
   "source": [
    "for lb,ub,y in zip(df_ci['lb'],df_ci['ub'],range(len(df_ci))):\n",
    "    plt.plot((lb,ub),(y,y),'ro-')\n",
    "plt.yticks(range(len(df_ci)),list(df_ci['home']))"
   ]
  },
  {
   "cell_type": "markdown",
   "id": "be4543d0",
   "metadata": {},
   "source": [
    "## Exercise 2"
   ]
  },
  {
   "cell_type": "code",
   "execution_count": 77,
   "id": "892aabf7",
   "metadata": {},
   "outputs": [],
   "source": [
    "import pandas as pd"
   ]
  },
  {
   "cell_type": "code",
   "execution_count": 103,
   "id": "2902afad",
   "metadata": {
    "scrolled": true
   },
   "outputs": [],
   "source": [
    "df=pd.read_csv('covid_data.csv',encoding='latin-1')"
   ]
  },
  {
   "cell_type": "code",
   "execution_count": 104,
   "id": "6f891ca3",
   "metadata": {
    "scrolled": true
   },
   "outputs": [
    {
     "data": {
      "text/html": [
       "<div>\n",
       "<style scoped>\n",
       "    .dataframe tbody tr th:only-of-type {\n",
       "        vertical-align: middle;\n",
       "    }\n",
       "\n",
       "    .dataframe tbody tr th {\n",
       "        vertical-align: top;\n",
       "    }\n",
       "\n",
       "    .dataframe thead th {\n",
       "        text-align: right;\n",
       "    }\n",
       "</style>\n",
       "<table border=\"1\" class=\"dataframe\">\n",
       "  <thead>\n",
       "    <tr style=\"text-align: right;\">\n",
       "      <th></th>\n",
       "      <th>date</th>\n",
       "      <th>iso3c</th>\n",
       "      <th>country</th>\n",
       "      <th>income</th>\n",
       "      <th>region</th>\n",
       "      <th>continent</th>\n",
       "      <th>dcases</th>\n",
       "      <th>ddeaths</th>\n",
       "      <th>population</th>\n",
       "      <th>weekdays</th>\n",
       "      <th>month</th>\n",
       "    </tr>\n",
       "  </thead>\n",
       "  <tbody>\n",
       "    <tr>\n",
       "      <th>0</th>\n",
       "      <td>2020-02-24</td>\n",
       "      <td>AFG</td>\n",
       "      <td>Afghanistan</td>\n",
       "      <td>Low income</td>\n",
       "      <td>South Asia</td>\n",
       "      <td>Asia</td>\n",
       "      <td>5</td>\n",
       "      <td>0</td>\n",
       "      <td>38041754</td>\n",
       "      <td>Mon</td>\n",
       "      <td>Feb</td>\n",
       "    </tr>\n",
       "    <tr>\n",
       "      <th>1</th>\n",
       "      <td>2020-02-25</td>\n",
       "      <td>AFG</td>\n",
       "      <td>Afghanistan</td>\n",
       "      <td>Low income</td>\n",
       "      <td>South Asia</td>\n",
       "      <td>Asia</td>\n",
       "      <td>0</td>\n",
       "      <td>0</td>\n",
       "      <td>38041754</td>\n",
       "      <td>Tue</td>\n",
       "      <td>Feb</td>\n",
       "    </tr>\n",
       "    <tr>\n",
       "      <th>2</th>\n",
       "      <td>2020-02-26</td>\n",
       "      <td>AFG</td>\n",
       "      <td>Afghanistan</td>\n",
       "      <td>Low income</td>\n",
       "      <td>South Asia</td>\n",
       "      <td>Asia</td>\n",
       "      <td>0</td>\n",
       "      <td>0</td>\n",
       "      <td>38041754</td>\n",
       "      <td>Wed</td>\n",
       "      <td>Feb</td>\n",
       "    </tr>\n",
       "    <tr>\n",
       "      <th>3</th>\n",
       "      <td>2020-02-27</td>\n",
       "      <td>AFG</td>\n",
       "      <td>Afghanistan</td>\n",
       "      <td>Low income</td>\n",
       "      <td>South Asia</td>\n",
       "      <td>Asia</td>\n",
       "      <td>0</td>\n",
       "      <td>0</td>\n",
       "      <td>38041754</td>\n",
       "      <td>Thu</td>\n",
       "      <td>Feb</td>\n",
       "    </tr>\n",
       "    <tr>\n",
       "      <th>4</th>\n",
       "      <td>2020-02-28</td>\n",
       "      <td>AFG</td>\n",
       "      <td>Afghanistan</td>\n",
       "      <td>Low income</td>\n",
       "      <td>South Asia</td>\n",
       "      <td>Asia</td>\n",
       "      <td>0</td>\n",
       "      <td>0</td>\n",
       "      <td>38041754</td>\n",
       "      <td>Fri</td>\n",
       "      <td>Feb</td>\n",
       "    </tr>\n",
       "  </tbody>\n",
       "</table>\n",
       "</div>"
      ],
      "text/plain": [
       "         date iso3c      country      income      region continent  dcases  \\\n",
       "0  2020-02-24   AFG  Afghanistan  Low income  South Asia      Asia       5   \n",
       "1  2020-02-25   AFG  Afghanistan  Low income  South Asia      Asia       0   \n",
       "2  2020-02-26   AFG  Afghanistan  Low income  South Asia      Asia       0   \n",
       "3  2020-02-27   AFG  Afghanistan  Low income  South Asia      Asia       0   \n",
       "4  2020-02-28   AFG  Afghanistan  Low income  South Asia      Asia       0   \n",
       "\n",
       "   ddeaths  population weekdays month  \n",
       "0        0    38041754      Mon   Feb  \n",
       "1        0    38041754      Tue   Feb  \n",
       "2        0    38041754      Wed   Feb  \n",
       "3        0    38041754      Thu   Feb  \n",
       "4        0    38041754      Fri   Feb  "
      ]
     },
     "execution_count": 104,
     "metadata": {},
     "output_type": "execute_result"
    }
   ],
   "source": [
    "df.head()"
   ]
  },
  {
   "cell_type": "code",
   "execution_count": 105,
   "id": "732d5ff8",
   "metadata": {},
   "outputs": [
    {
     "data": {
      "text/plain": [
       "array(['Afghanistan', 'Angola', 'Albania', 'Andorra',\n",
       "       'United Arab Emirates', 'Argentina', 'Armenia',\n",
       "       'Antigua & Barbuda', 'Australia', 'Austria', 'Azerbaijan',\n",
       "       'Burundi', 'Belgium', 'Benin', 'Burkina Faso', 'Bangladesh',\n",
       "       'Bulgaria', 'Bahrain', 'Bahamas', 'Bosnia & Herzegovina',\n",
       "       'Belarus', 'Belize', 'Bolivia', 'Brazil', 'Barbados', 'Brunei',\n",
       "       'Bhutan', 'Botswana', 'Central African Republic', 'Canada',\n",
       "       'Switzerland', 'Chile', 'China', 'Côte d\\x92Ivoire', 'Cameroon',\n",
       "       'Congo - Kinshasa', 'Congo - Brazzaville', 'Colombia', 'Comoros',\n",
       "       'Cape Verde', 'Costa Rica', 'Cuba', 'Cyprus', 'Czechia', 'Germany',\n",
       "       'Djibouti', 'Dominica', 'Denmark', 'Dominican Republic', 'Algeria',\n",
       "       'Ecuador', 'Egypt', 'Spain', 'Estonia', 'Ethiopia', 'Finland',\n",
       "       'Fiji', 'France', 'Gabon', 'United Kingdom', 'Georgia', 'Ghana',\n",
       "       'Guinea', 'Gambia', 'Guinea-Bissau', 'Equatorial Guinea', 'Greece',\n",
       "       'Grenada', 'Guatemala', 'Guyana', 'Honduras', 'Croatia', 'Haiti',\n",
       "       'Hungary', 'Indonesia', 'India', 'Ireland', 'Iran', 'Iraq',\n",
       "       'Iceland', 'Israel', 'Italy', 'Jamaica', 'Jordan', 'Japan',\n",
       "       'Kazakhstan', 'Kenya', 'Kyrgyzstan', 'Cambodia', 'Kiribati',\n",
       "       'St. Kitts & Nevis', 'South Korea', 'Kuwait', 'Laos', 'Lebanon',\n",
       "       'Liberia', 'Libya', 'St. Lucia', 'Liechtenstein', 'Sri Lanka',\n",
       "       'Lesotho', 'Lithuania', 'Luxembourg', 'Latvia', 'Morocco',\n",
       "       'Monaco', 'Moldova', 'Madagascar', 'Maldives', 'Mexico',\n",
       "       'Marshall Islands', 'North Macedonia', 'Mali', 'Malta',\n",
       "       'Myanmar (Burma)', 'Montenegro', 'Mongolia', 'Mozambique',\n",
       "       'Mauritania', 'Mauritius', 'Malawi', 'Malaysia', 'Namibia',\n",
       "       'Niger', 'Nigeria', 'Nicaragua', 'Netherlands', 'Norway', 'Nepal',\n",
       "       'New Zealand', 'Oman', 'Pakistan', 'Panama', 'Peru', 'Philippines',\n",
       "       'Palau', 'Papua New Guinea', 'Poland', 'Portugal', 'Paraguay',\n",
       "       'Palestinian Territories', 'Qatar', 'Romania', 'Russia', 'Rwanda',\n",
       "       'Saudi Arabia', 'Sudan', 'Senegal', 'Singapore', 'Solomon Islands',\n",
       "       'Sierra Leone', 'El Salvador', 'San Marino', 'Somalia', 'Serbia',\n",
       "       'South Sudan', 'São Tomé & Príncipe', 'Suriname', 'Slovakia',\n",
       "       'Slovenia', 'Sweden', 'Eswatini', 'Seychelles', 'Syria', 'Chad',\n",
       "       'Togo', 'Thailand', 'Tajikistan', 'Timor-Leste',\n",
       "       'Trinidad & Tobago', 'Tunisia', 'Turkey', 'Tanzania', 'Uganda',\n",
       "       'Ukraine', 'Uruguay', 'United States', 'Uzbekistan',\n",
       "       'St. Vincent & Grenadines', 'Venezuela', 'Vietnam', 'Vanuatu',\n",
       "       'Samoa', 'Yemen', 'South Africa', 'Zambia', 'Zimbabwe'],\n",
       "      dtype=object)"
      ]
     },
     "execution_count": 105,
     "metadata": {},
     "output_type": "execute_result"
    }
   ],
   "source": [
    "df['country'].unique()"
   ]
  },
  {
   "cell_type": "code",
   "execution_count": 106,
   "id": "eea6d767",
   "metadata": {},
   "outputs": [],
   "source": [
    "from pandas.api.types import CategoricalDtype\n",
    "cats=['Fri', 'Sat', 'Sun','Mon','Tue','Wed','Thu']\n",
    "cat_type = CategoricalDtype(categories=cats, ordered=True)\n",
    "df['weekdays'] = df['weekdays'].astype(cat_type)"
   ]
  },
  {
   "cell_type": "code",
   "execution_count": 107,
   "id": "f7bd5681",
   "metadata": {},
   "outputs": [],
   "source": [
    "from pandas.api.types import CategoricalDtype\n",
    "cats=['Jan', 'Feb', 'Mar','Apr','May','Jun','Jul','Aug','Sep','Oct','Nov','Dec']\n",
    "cat_type = CategoricalDtype(categories=cats, ordered=True)\n",
    "df['month'] = df['month'].astype(cat_type)"
   ]
  },
  {
   "cell_type": "code",
   "execution_count": 108,
   "id": "ced40d88",
   "metadata": {},
   "outputs": [],
   "source": [
    "import numpy as np"
   ]
  },
  {
   "cell_type": "code",
   "execution_count": 109,
   "id": "e47409cb",
   "metadata": {},
   "outputs": [],
   "source": [
    "dfegy=df[df['country']=='Egypt']"
   ]
  },
  {
   "cell_type": "code",
   "execution_count": 110,
   "id": "fc524ebb",
   "metadata": {},
   "outputs": [],
   "source": [
    "stats=dfegy.groupby(\"weekdays\").agg({\"dcases\": [np.mean, np.std, np.size]})"
   ]
  },
  {
   "cell_type": "code",
   "execution_count": 111,
   "id": "a775e613",
   "metadata": {},
   "outputs": [
    {
     "data": {
      "text/html": [
       "<div>\n",
       "<style scoped>\n",
       "    .dataframe tbody tr th:only-of-type {\n",
       "        vertical-align: middle;\n",
       "    }\n",
       "\n",
       "    .dataframe tbody tr th {\n",
       "        vertical-align: top;\n",
       "    }\n",
       "\n",
       "    .dataframe thead tr th {\n",
       "        text-align: left;\n",
       "    }\n",
       "\n",
       "    .dataframe thead tr:last-of-type th {\n",
       "        text-align: right;\n",
       "    }\n",
       "</style>\n",
       "<table border=\"1\" class=\"dataframe\">\n",
       "  <thead>\n",
       "    <tr>\n",
       "      <th></th>\n",
       "      <th colspan=\"3\" halign=\"left\">dcases</th>\n",
       "    </tr>\n",
       "    <tr>\n",
       "      <th></th>\n",
       "      <th>mean</th>\n",
       "      <th>std</th>\n",
       "      <th>size</th>\n",
       "    </tr>\n",
       "    <tr>\n",
       "      <th>weekdays</th>\n",
       "      <th></th>\n",
       "      <th></th>\n",
       "      <th></th>\n",
       "    </tr>\n",
       "  </thead>\n",
       "  <tbody>\n",
       "    <tr>\n",
       "      <th>Fri</th>\n",
       "      <td>567.161616</td>\n",
       "      <td>428.533849</td>\n",
       "      <td>99</td>\n",
       "    </tr>\n",
       "    <tr>\n",
       "      <th>Sat</th>\n",
       "      <td>558.806122</td>\n",
       "      <td>421.803605</td>\n",
       "      <td>98</td>\n",
       "    </tr>\n",
       "    <tr>\n",
       "      <th>Sun</th>\n",
       "      <td>545.520408</td>\n",
       "      <td>422.358748</td>\n",
       "      <td>98</td>\n",
       "    </tr>\n",
       "    <tr>\n",
       "      <th>Mon</th>\n",
       "      <td>561.846939</td>\n",
       "      <td>442.137949</td>\n",
       "      <td>98</td>\n",
       "    </tr>\n",
       "    <tr>\n",
       "      <th>Tue</th>\n",
       "      <td>566.153061</td>\n",
       "      <td>419.125460</td>\n",
       "      <td>98</td>\n",
       "    </tr>\n",
       "    <tr>\n",
       "      <th>Wed</th>\n",
       "      <td>561.479592</td>\n",
       "      <td>406.337812</td>\n",
       "      <td>98</td>\n",
       "    </tr>\n",
       "    <tr>\n",
       "      <th>Thu</th>\n",
       "      <td>567.683673</td>\n",
       "      <td>410.020004</td>\n",
       "      <td>98</td>\n",
       "    </tr>\n",
       "  </tbody>\n",
       "</table>\n",
       "</div>"
      ],
      "text/plain": [
       "              dcases                 \n",
       "                mean         std size\n",
       "weekdays                             \n",
       "Fri       567.161616  428.533849   99\n",
       "Sat       558.806122  421.803605   98\n",
       "Sun       545.520408  422.358748   98\n",
       "Mon       561.846939  442.137949   98\n",
       "Tue       566.153061  419.125460   98\n",
       "Wed       561.479592  406.337812   98\n",
       "Thu       567.683673  410.020004   98"
      ]
     },
     "execution_count": 111,
     "metadata": {},
     "output_type": "execute_result"
    }
   ],
   "source": [
    "stats"
   ]
  },
  {
   "cell_type": "code",
   "execution_count": 112,
   "id": "15b0c9c2",
   "metadata": {},
   "outputs": [
    {
     "data": {
      "text/html": [
       "<div>\n",
       "<style scoped>\n",
       "    .dataframe tbody tr th:only-of-type {\n",
       "        vertical-align: middle;\n",
       "    }\n",
       "\n",
       "    .dataframe tbody tr th {\n",
       "        vertical-align: top;\n",
       "    }\n",
       "\n",
       "    .dataframe thead tr th {\n",
       "        text-align: left;\n",
       "    }\n",
       "\n",
       "    .dataframe thead tr:last-of-type th {\n",
       "        text-align: right;\n",
       "    }\n",
       "</style>\n",
       "<table border=\"1\" class=\"dataframe\">\n",
       "  <thead>\n",
       "    <tr>\n",
       "      <th></th>\n",
       "      <th colspan=\"3\" halign=\"left\">dcases</th>\n",
       "    </tr>\n",
       "    <tr>\n",
       "      <th></th>\n",
       "      <th>mean</th>\n",
       "      <th>std</th>\n",
       "      <th>size</th>\n",
       "    </tr>\n",
       "    <tr>\n",
       "      <th>month</th>\n",
       "      <th></th>\n",
       "      <th></th>\n",
       "      <th></th>\n",
       "    </tr>\n",
       "  </thead>\n",
       "  <tbody>\n",
       "    <tr>\n",
       "      <th>Jan</th>\n",
       "      <td>899.645161</td>\n",
       "      <td>251.335970</td>\n",
       "      <td>31</td>\n",
       "    </tr>\n",
       "    <tr>\n",
       "      <th>Feb</th>\n",
       "      <td>374.409091</td>\n",
       "      <td>288.087868</td>\n",
       "      <td>44</td>\n",
       "    </tr>\n",
       "    <tr>\n",
       "      <th>Mar</th>\n",
       "      <td>329.290323</td>\n",
       "      <td>310.292849</td>\n",
       "      <td>62</td>\n",
       "    </tr>\n",
       "    <tr>\n",
       "      <th>Apr</th>\n",
       "      <td>504.133333</td>\n",
       "      <td>354.246465</td>\n",
       "      <td>60</td>\n",
       "    </tr>\n",
       "    <tr>\n",
       "      <th>May</th>\n",
       "      <td>879.774194</td>\n",
       "      <td>346.475245</td>\n",
       "      <td>62</td>\n",
       "    </tr>\n",
       "    <tr>\n",
       "      <th>Jun</th>\n",
       "      <td>1032.633333</td>\n",
       "      <td>454.674216</td>\n",
       "      <td>60</td>\n",
       "    </tr>\n",
       "    <tr>\n",
       "      <th>Jul</th>\n",
       "      <td>463.661290</td>\n",
       "      <td>437.595552</td>\n",
       "      <td>62</td>\n",
       "    </tr>\n",
       "    <tr>\n",
       "      <th>Aug</th>\n",
       "      <td>145.806452</td>\n",
       "      <td>60.683224</td>\n",
       "      <td>62</td>\n",
       "    </tr>\n",
       "    <tr>\n",
       "      <th>Sep</th>\n",
       "      <td>339.033333</td>\n",
       "      <td>225.855584</td>\n",
       "      <td>60</td>\n",
       "    </tr>\n",
       "    <tr>\n",
       "      <th>Oct</th>\n",
       "      <td>497.580645</td>\n",
       "      <td>362.321547</td>\n",
       "      <td>62</td>\n",
       "    </tr>\n",
       "    <tr>\n",
       "      <th>Nov</th>\n",
       "      <td>598.616667</td>\n",
       "      <td>370.082496</td>\n",
       "      <td>60</td>\n",
       "    </tr>\n",
       "    <tr>\n",
       "      <th>Dec</th>\n",
       "      <td>792.709677</td>\n",
       "      <td>300.346870</td>\n",
       "      <td>62</td>\n",
       "    </tr>\n",
       "  </tbody>\n",
       "</table>\n",
       "</div>"
      ],
      "text/plain": [
       "            dcases                 \n",
       "              mean         std size\n",
       "month                              \n",
       "Jan     899.645161  251.335970   31\n",
       "Feb     374.409091  288.087868   44\n",
       "Mar     329.290323  310.292849   62\n",
       "Apr     504.133333  354.246465   60\n",
       "May     879.774194  346.475245   62\n",
       "Jun    1032.633333  454.674216   60\n",
       "Jul     463.661290  437.595552   62\n",
       "Aug     145.806452   60.683224   62\n",
       "Sep     339.033333  225.855584   60\n",
       "Oct     497.580645  362.321547   62\n",
       "Nov     598.616667  370.082496   60\n",
       "Dec     792.709677  300.346870   62"
      ]
     },
     "execution_count": 112,
     "metadata": {},
     "output_type": "execute_result"
    }
   ],
   "source": [
    "statsm=dfegy.groupby(\"month\").agg({\"dcases\": [np.mean, np.std, np.size]})\n",
    "statsm"
   ]
  },
  {
   "cell_type": "code",
   "execution_count": 53,
   "id": "0c1db431",
   "metadata": {},
   "outputs": [],
   "source": [
    "import numpy as np\n",
    "import scipy.stats "
   ]
  },
  {
   "cell_type": "code",
   "execution_count": 113,
   "id": "c204da4f",
   "metadata": {},
   "outputs": [
    {
     "data": {
      "text/plain": [
       "CategoricalIndex(['Jan', 'Feb', 'Mar', 'Apr', 'May', 'Jun', 'Jul', 'Aug',\n",
       "                  'Sep', 'Oct', 'Nov', 'Dec'],\n",
       "                 categories=['Jan', 'Feb', 'Mar', 'Apr', 'May', 'Jun', 'Jul', 'Aug', ...], ordered=True, dtype='category', name='month')"
      ]
     },
     "execution_count": 113,
     "metadata": {},
     "output_type": "execute_result"
    }
   ],
   "source": [
    "statsm.index"
   ]
  },
  {
   "cell_type": "code",
   "execution_count": 114,
   "id": "c03536cf",
   "metadata": {},
   "outputs": [],
   "source": [
    "ci95_hi = []\n",
    "ci95_lo = []"
   ]
  },
  {
   "cell_type": "code",
   "execution_count": 115,
   "id": "a6477f78",
   "metadata": {},
   "outputs": [],
   "source": [
    "for i in statsm.index:\n",
    "    m, s, n = statsm.loc[i]\n",
    "    x=scipy.stats.t.interval(.95, n-1, m,s/np.sqrt(n-1))\n",
    "    ci95_hi.append(x[1])\n",
    "    ci95_lo.append(x[0])"
   ]
  },
  {
   "cell_type": "code",
   "execution_count": 116,
   "id": "001336dd",
   "metadata": {},
   "outputs": [
    {
     "data": {
      "text/plain": [
       "[993.3598571863843,\n",
       " 463.0084047471138,\n",
       " 408.7332244407111,\n",
       " 596.4171621669087,\n",
       " 968.4807139392825,\n",
       " 1151.0793353591891,\n",
       " 575.6969386179874,\n",
       " 161.3429084204986,\n",
       " 397.87038622259695,\n",
       " 590.3442237843955,\n",
       " 695.0258988600798,\n",
       " 869.6061543814164]"
      ]
     },
     "execution_count": 116,
     "metadata": {},
     "output_type": "execute_result"
    }
   ],
   "source": [
    "ci95_hi"
   ]
  },
  {
   "cell_type": "code",
   "execution_count": 117,
   "id": "d6eea1d7",
   "metadata": {},
   "outputs": [
    {
     "data": {
      "text/plain": [
       "[805.9304653942609,\n",
       " 285.8097770710681,\n",
       " 249.84742072057924,\n",
       " 411.8495044997579,\n",
       " 791.0676731574916,\n",
       " 914.1873313074777,\n",
       " 351.6256420271739,\n",
       " 130.26999480530787,\n",
       " 280.19628044406977,\n",
       " 404.8170665381852,\n",
       " 502.2074344732536,\n",
       " 715.8132004572933]"
      ]
     },
     "execution_count": 117,
     "metadata": {},
     "output_type": "execute_result"
    }
   ],
   "source": [
    "ci95_lo"
   ]
  },
  {
   "cell_type": "code",
   "execution_count": 120,
   "id": "04e58230",
   "metadata": {
    "scrolled": true
   },
   "outputs": [
    {
     "name": "stdout",
     "output_type": "stream",
     "text": [
      "            dcases                       ci95_hi     ci95_lo\n",
      "              mean         std size                         \n",
      "month                                                       \n",
      "Jan     899.645161  251.335970   31   993.359857  805.930465\n",
      "Feb     374.409091  288.087868   44   463.008405  285.809777\n",
      "Mar     329.290323  310.292849   62   408.733224  249.847421\n",
      "Apr     504.133333  354.246465   60   596.417162  411.849504\n",
      "May     879.774194  346.475245   62   968.480714  791.067673\n",
      "Jun    1032.633333  454.674216   60  1151.079335  914.187331\n",
      "Jul     463.661290  437.595552   62   575.696939  351.625642\n",
      "Aug     145.806452   60.683224   62   161.342908  130.269995\n",
      "Sep     339.033333  225.855584   60   397.870386  280.196280\n",
      "Oct     497.580645  362.321547   62   590.344224  404.817067\n",
      "Nov     598.616667  370.082496   60   695.025899  502.207434\n",
      "Dec     792.709677  300.346870   62   869.606154  715.813200\n"
     ]
    }
   ],
   "source": [
    "statsm['ci95_hi'] = ci95_hi\n",
    "statsm['ci95_lo'] = ci95_lo\n",
    "print(statsm)"
   ]
  },
  {
   "cell_type": "code",
   "execution_count": 121,
   "id": "98cd17e0",
   "metadata": {},
   "outputs": [],
   "source": [
    "df_ci= pd.DataFrame(statsm)"
   ]
  },
  {
   "cell_type": "code",
   "execution_count": 122,
   "id": "3049ff95",
   "metadata": {
    "scrolled": false
   },
   "outputs": [
    {
     "data": {
      "text/html": [
       "<div>\n",
       "<style scoped>\n",
       "    .dataframe tbody tr th:only-of-type {\n",
       "        vertical-align: middle;\n",
       "    }\n",
       "\n",
       "    .dataframe tbody tr th {\n",
       "        vertical-align: top;\n",
       "    }\n",
       "\n",
       "    .dataframe thead tr th {\n",
       "        text-align: left;\n",
       "    }\n",
       "\n",
       "    .dataframe thead tr:last-of-type th {\n",
       "        text-align: right;\n",
       "    }\n",
       "</style>\n",
       "<table border=\"1\" class=\"dataframe\">\n",
       "  <thead>\n",
       "    <tr>\n",
       "      <th></th>\n",
       "      <th colspan=\"3\" halign=\"left\">dcases</th>\n",
       "      <th>ci95_hi</th>\n",
       "      <th>ci95_lo</th>\n",
       "    </tr>\n",
       "    <tr>\n",
       "      <th></th>\n",
       "      <th>mean</th>\n",
       "      <th>std</th>\n",
       "      <th>size</th>\n",
       "      <th></th>\n",
       "      <th></th>\n",
       "    </tr>\n",
       "    <tr>\n",
       "      <th>month</th>\n",
       "      <th></th>\n",
       "      <th></th>\n",
       "      <th></th>\n",
       "      <th></th>\n",
       "      <th></th>\n",
       "    </tr>\n",
       "  </thead>\n",
       "  <tbody>\n",
       "    <tr>\n",
       "      <th>Jan</th>\n",
       "      <td>899.645161</td>\n",
       "      <td>251.335970</td>\n",
       "      <td>31</td>\n",
       "      <td>993.359857</td>\n",
       "      <td>805.930465</td>\n",
       "    </tr>\n",
       "    <tr>\n",
       "      <th>Feb</th>\n",
       "      <td>374.409091</td>\n",
       "      <td>288.087868</td>\n",
       "      <td>44</td>\n",
       "      <td>463.008405</td>\n",
       "      <td>285.809777</td>\n",
       "    </tr>\n",
       "    <tr>\n",
       "      <th>Mar</th>\n",
       "      <td>329.290323</td>\n",
       "      <td>310.292849</td>\n",
       "      <td>62</td>\n",
       "      <td>408.733224</td>\n",
       "      <td>249.847421</td>\n",
       "    </tr>\n",
       "    <tr>\n",
       "      <th>Apr</th>\n",
       "      <td>504.133333</td>\n",
       "      <td>354.246465</td>\n",
       "      <td>60</td>\n",
       "      <td>596.417162</td>\n",
       "      <td>411.849504</td>\n",
       "    </tr>\n",
       "    <tr>\n",
       "      <th>May</th>\n",
       "      <td>879.774194</td>\n",
       "      <td>346.475245</td>\n",
       "      <td>62</td>\n",
       "      <td>968.480714</td>\n",
       "      <td>791.067673</td>\n",
       "    </tr>\n",
       "    <tr>\n",
       "      <th>Jun</th>\n",
       "      <td>1032.633333</td>\n",
       "      <td>454.674216</td>\n",
       "      <td>60</td>\n",
       "      <td>1151.079335</td>\n",
       "      <td>914.187331</td>\n",
       "    </tr>\n",
       "    <tr>\n",
       "      <th>Jul</th>\n",
       "      <td>463.661290</td>\n",
       "      <td>437.595552</td>\n",
       "      <td>62</td>\n",
       "      <td>575.696939</td>\n",
       "      <td>351.625642</td>\n",
       "    </tr>\n",
       "    <tr>\n",
       "      <th>Aug</th>\n",
       "      <td>145.806452</td>\n",
       "      <td>60.683224</td>\n",
       "      <td>62</td>\n",
       "      <td>161.342908</td>\n",
       "      <td>130.269995</td>\n",
       "    </tr>\n",
       "    <tr>\n",
       "      <th>Sep</th>\n",
       "      <td>339.033333</td>\n",
       "      <td>225.855584</td>\n",
       "      <td>60</td>\n",
       "      <td>397.870386</td>\n",
       "      <td>280.196280</td>\n",
       "    </tr>\n",
       "    <tr>\n",
       "      <th>Oct</th>\n",
       "      <td>497.580645</td>\n",
       "      <td>362.321547</td>\n",
       "      <td>62</td>\n",
       "      <td>590.344224</td>\n",
       "      <td>404.817067</td>\n",
       "    </tr>\n",
       "    <tr>\n",
       "      <th>Nov</th>\n",
       "      <td>598.616667</td>\n",
       "      <td>370.082496</td>\n",
       "      <td>60</td>\n",
       "      <td>695.025899</td>\n",
       "      <td>502.207434</td>\n",
       "    </tr>\n",
       "    <tr>\n",
       "      <th>Dec</th>\n",
       "      <td>792.709677</td>\n",
       "      <td>300.346870</td>\n",
       "      <td>62</td>\n",
       "      <td>869.606154</td>\n",
       "      <td>715.813200</td>\n",
       "    </tr>\n",
       "  </tbody>\n",
       "</table>\n",
       "</div>"
      ],
      "text/plain": [
       "            dcases                       ci95_hi     ci95_lo\n",
       "              mean         std size                         \n",
       "month                                                       \n",
       "Jan     899.645161  251.335970   31   993.359857  805.930465\n",
       "Feb     374.409091  288.087868   44   463.008405  285.809777\n",
       "Mar     329.290323  310.292849   62   408.733224  249.847421\n",
       "Apr     504.133333  354.246465   60   596.417162  411.849504\n",
       "May     879.774194  346.475245   62   968.480714  791.067673\n",
       "Jun    1032.633333  454.674216   60  1151.079335  914.187331\n",
       "Jul     463.661290  437.595552   62   575.696939  351.625642\n",
       "Aug     145.806452   60.683224   62   161.342908  130.269995\n",
       "Sep     339.033333  225.855584   60   397.870386  280.196280\n",
       "Oct     497.580645  362.321547   62   590.344224  404.817067\n",
       "Nov     598.616667  370.082496   60   695.025899  502.207434\n",
       "Dec     792.709677  300.346870   62   869.606154  715.813200"
      ]
     },
     "execution_count": 122,
     "metadata": {},
     "output_type": "execute_result"
    }
   ],
   "source": [
    "df_ci"
   ]
  },
  {
   "cell_type": "code",
   "execution_count": 123,
   "id": "b0cfde07",
   "metadata": {},
   "outputs": [
    {
     "data": {
      "text/plain": [
       "CategoricalIndex(['Jan', 'Feb', 'Mar', 'Apr', 'May', 'Jun', 'Jul', 'Aug',\n",
       "                  'Sep', 'Oct', 'Nov', 'Dec'],\n",
       "                 categories=['Jan', 'Feb', 'Mar', 'Apr', 'May', 'Jun', 'Jul', 'Aug', ...], ordered=True, dtype='category', name='month')"
      ]
     },
     "execution_count": 123,
     "metadata": {},
     "output_type": "execute_result"
    }
   ],
   "source": [
    "df_ci.index"
   ]
  },
  {
   "cell_type": "code",
   "execution_count": 124,
   "id": "b93bc0cb",
   "metadata": {},
   "outputs": [],
   "source": [
    "df_ci['month']=df_ci.index"
   ]
  },
  {
   "cell_type": "code",
   "execution_count": 125,
   "id": "26ad9d6b",
   "metadata": {},
   "outputs": [
    {
     "data": {
      "text/html": [
       "<div>\n",
       "<style scoped>\n",
       "    .dataframe tbody tr th:only-of-type {\n",
       "        vertical-align: middle;\n",
       "    }\n",
       "\n",
       "    .dataframe tbody tr th {\n",
       "        vertical-align: top;\n",
       "    }\n",
       "\n",
       "    .dataframe thead tr th {\n",
       "        text-align: left;\n",
       "    }\n",
       "\n",
       "    .dataframe thead tr:last-of-type th {\n",
       "        text-align: right;\n",
       "    }\n",
       "</style>\n",
       "<table border=\"1\" class=\"dataframe\">\n",
       "  <thead>\n",
       "    <tr>\n",
       "      <th></th>\n",
       "      <th colspan=\"3\" halign=\"left\">dcases</th>\n",
       "      <th>ci95_hi</th>\n",
       "      <th>ci95_lo</th>\n",
       "      <th>month</th>\n",
       "    </tr>\n",
       "    <tr>\n",
       "      <th></th>\n",
       "      <th>mean</th>\n",
       "      <th>std</th>\n",
       "      <th>size</th>\n",
       "      <th></th>\n",
       "      <th></th>\n",
       "      <th></th>\n",
       "    </tr>\n",
       "    <tr>\n",
       "      <th>month</th>\n",
       "      <th></th>\n",
       "      <th></th>\n",
       "      <th></th>\n",
       "      <th></th>\n",
       "      <th></th>\n",
       "      <th></th>\n",
       "    </tr>\n",
       "  </thead>\n",
       "  <tbody>\n",
       "    <tr>\n",
       "      <th>Jan</th>\n",
       "      <td>899.645161</td>\n",
       "      <td>251.335970</td>\n",
       "      <td>31</td>\n",
       "      <td>993.359857</td>\n",
       "      <td>805.930465</td>\n",
       "      <td>Jan</td>\n",
       "    </tr>\n",
       "    <tr>\n",
       "      <th>Feb</th>\n",
       "      <td>374.409091</td>\n",
       "      <td>288.087868</td>\n",
       "      <td>44</td>\n",
       "      <td>463.008405</td>\n",
       "      <td>285.809777</td>\n",
       "      <td>Feb</td>\n",
       "    </tr>\n",
       "    <tr>\n",
       "      <th>Mar</th>\n",
       "      <td>329.290323</td>\n",
       "      <td>310.292849</td>\n",
       "      <td>62</td>\n",
       "      <td>408.733224</td>\n",
       "      <td>249.847421</td>\n",
       "      <td>Mar</td>\n",
       "    </tr>\n",
       "    <tr>\n",
       "      <th>Apr</th>\n",
       "      <td>504.133333</td>\n",
       "      <td>354.246465</td>\n",
       "      <td>60</td>\n",
       "      <td>596.417162</td>\n",
       "      <td>411.849504</td>\n",
       "      <td>Apr</td>\n",
       "    </tr>\n",
       "    <tr>\n",
       "      <th>May</th>\n",
       "      <td>879.774194</td>\n",
       "      <td>346.475245</td>\n",
       "      <td>62</td>\n",
       "      <td>968.480714</td>\n",
       "      <td>791.067673</td>\n",
       "      <td>May</td>\n",
       "    </tr>\n",
       "    <tr>\n",
       "      <th>Jun</th>\n",
       "      <td>1032.633333</td>\n",
       "      <td>454.674216</td>\n",
       "      <td>60</td>\n",
       "      <td>1151.079335</td>\n",
       "      <td>914.187331</td>\n",
       "      <td>Jun</td>\n",
       "    </tr>\n",
       "    <tr>\n",
       "      <th>Jul</th>\n",
       "      <td>463.661290</td>\n",
       "      <td>437.595552</td>\n",
       "      <td>62</td>\n",
       "      <td>575.696939</td>\n",
       "      <td>351.625642</td>\n",
       "      <td>Jul</td>\n",
       "    </tr>\n",
       "    <tr>\n",
       "      <th>Aug</th>\n",
       "      <td>145.806452</td>\n",
       "      <td>60.683224</td>\n",
       "      <td>62</td>\n",
       "      <td>161.342908</td>\n",
       "      <td>130.269995</td>\n",
       "      <td>Aug</td>\n",
       "    </tr>\n",
       "    <tr>\n",
       "      <th>Sep</th>\n",
       "      <td>339.033333</td>\n",
       "      <td>225.855584</td>\n",
       "      <td>60</td>\n",
       "      <td>397.870386</td>\n",
       "      <td>280.196280</td>\n",
       "      <td>Sep</td>\n",
       "    </tr>\n",
       "    <tr>\n",
       "      <th>Oct</th>\n",
       "      <td>497.580645</td>\n",
       "      <td>362.321547</td>\n",
       "      <td>62</td>\n",
       "      <td>590.344224</td>\n",
       "      <td>404.817067</td>\n",
       "      <td>Oct</td>\n",
       "    </tr>\n",
       "    <tr>\n",
       "      <th>Nov</th>\n",
       "      <td>598.616667</td>\n",
       "      <td>370.082496</td>\n",
       "      <td>60</td>\n",
       "      <td>695.025899</td>\n",
       "      <td>502.207434</td>\n",
       "      <td>Nov</td>\n",
       "    </tr>\n",
       "    <tr>\n",
       "      <th>Dec</th>\n",
       "      <td>792.709677</td>\n",
       "      <td>300.346870</td>\n",
       "      <td>62</td>\n",
       "      <td>869.606154</td>\n",
       "      <td>715.813200</td>\n",
       "      <td>Dec</td>\n",
       "    </tr>\n",
       "  </tbody>\n",
       "</table>\n",
       "</div>"
      ],
      "text/plain": [
       "            dcases                       ci95_hi     ci95_lo month\n",
       "              mean         std size                               \n",
       "month                                                             \n",
       "Jan     899.645161  251.335970   31   993.359857  805.930465   Jan\n",
       "Feb     374.409091  288.087868   44   463.008405  285.809777   Feb\n",
       "Mar     329.290323  310.292849   62   408.733224  249.847421   Mar\n",
       "Apr     504.133333  354.246465   60   596.417162  411.849504   Apr\n",
       "May     879.774194  346.475245   62   968.480714  791.067673   May\n",
       "Jun    1032.633333  454.674216   60  1151.079335  914.187331   Jun\n",
       "Jul     463.661290  437.595552   62   575.696939  351.625642   Jul\n",
       "Aug     145.806452   60.683224   62   161.342908  130.269995   Aug\n",
       "Sep     339.033333  225.855584   60   397.870386  280.196280   Sep\n",
       "Oct     497.580645  362.321547   62   590.344224  404.817067   Oct\n",
       "Nov     598.616667  370.082496   60   695.025899  502.207434   Nov\n",
       "Dec     792.709677  300.346870   62   869.606154  715.813200   Dec"
      ]
     },
     "execution_count": 125,
     "metadata": {},
     "output_type": "execute_result"
    }
   ],
   "source": [
    "df_ci"
   ]
  },
  {
   "cell_type": "code",
   "execution_count": 126,
   "id": "7aa4f0fd",
   "metadata": {},
   "outputs": [
    {
     "data": {
      "text/plain": [
       "MultiIndex([( 'dcases', 'mean'),\n",
       "            ( 'dcases',  'std'),\n",
       "            ( 'dcases', 'size'),\n",
       "            ('ci95_hi',     ''),\n",
       "            ('ci95_lo',     ''),\n",
       "            (  'month',     '')],\n",
       "           )"
      ]
     },
     "execution_count": 126,
     "metadata": {},
     "output_type": "execute_result"
    }
   ],
   "source": [
    "df_ci.columns"
   ]
  },
  {
   "cell_type": "code",
   "execution_count": 127,
   "id": "e23cc584",
   "metadata": {},
   "outputs": [],
   "source": [
    "import matplotlib.pyplot as plt"
   ]
  },
  {
   "cell_type": "code",
   "execution_count": 129,
   "id": "b80d8a5f",
   "metadata": {},
   "outputs": [
    {
     "data": {
      "text/plain": [
       "([<matplotlib.axis.YTick at 0x1d7dbb1c1c0>,\n",
       "  <matplotlib.axis.YTick at 0x1d7dba59be0>,\n",
       "  <matplotlib.axis.YTick at 0x1d7db9901c0>,\n",
       "  <matplotlib.axis.YTick at 0x1d7db4c5220>,\n",
       "  <matplotlib.axis.YTick at 0x1d7db4c59d0>,\n",
       "  <matplotlib.axis.YTick at 0x1d7db4c5fa0>,\n",
       "  <matplotlib.axis.YTick at 0x1d7db50fa90>,\n",
       "  <matplotlib.axis.YTick at 0x1d7db50f040>,\n",
       "  <matplotlib.axis.YTick at 0x1d7db594670>,\n",
       "  <matplotlib.axis.YTick at 0x1d7db594fa0>,\n",
       "  <matplotlib.axis.YTick at 0x1d7db817c10>,\n",
       "  <matplotlib.axis.YTick at 0x1d7db817520>],\n",
       " [Text(0, 0, 'Jan'),\n",
       "  Text(0, 1, 'Feb'),\n",
       "  Text(0, 2, 'Mar'),\n",
       "  Text(0, 3, 'Apr'),\n",
       "  Text(0, 4, 'May'),\n",
       "  Text(0, 5, 'Jun'),\n",
       "  Text(0, 6, 'Jul'),\n",
       "  Text(0, 7, 'Aug'),\n",
       "  Text(0, 8, 'Sep'),\n",
       "  Text(0, 9, 'Oct'),\n",
       "  Text(0, 10, 'Nov'),\n",
       "  Text(0, 11, 'Dec')])"
      ]
     },
     "execution_count": 129,
     "metadata": {},
     "output_type": "execute_result"
    },
    {
     "data": {
      "image/png": "[encoded data removed]",
      "text/plain": [
       "<Figure size 432x288 with 1 Axes>"
      ]
     },
     "metadata": {
      "needs_background": "light"
     },
     "output_type": "display_data"
    }
   ],
   "source": [
    "for lb,ub,y in zip(df_ci['ci95_lo'],df_ci['ci95_hi'],range(len(df_ci))):\n",
    "    plt.plot((lb,ub),(y,y),'ro-')\n",
    "plt.yticks(range(len(df_ci)),list(df_ci['month']))\n"
   ]
  },
  {
   "cell_type": "markdown",
   "id": "f654a468",
   "metadata": {},
   "source": [
    "## Exercise 3"
   ]
  },
  {
   "cell_type": "code",
   "execution_count": 68,
   "id": "b628697f",
   "metadata": {},
   "outputs": [],
   "source": [
    "import numpy as np\n",
    "from scipy.stats import norm,t\n",
    "import pandas as pd"
   ]
  },
  {
   "cell_type": "code",
   "execution_count": 69,
   "id": "12746aad",
   "metadata": {},
   "outputs": [],
   "source": [
    "yM, sM, nM = 4.5,0.45,55"
   ]
  },
  {
   "cell_type": "code",
   "execution_count": 70,
   "id": "8076d617",
   "metadata": {},
   "outputs": [],
   "source": [
    "yF, sF, nF = 3.1,0.33,65"
   ]
  },
  {
   "cell_type": "code",
   "execution_count": 71,
   "id": "d7ee9a2c",
   "metadata": {},
   "outputs": [],
   "source": [
    "ciM=scipy.stats.t.interval(.95, nM-1, yM,np.sqrt(sM)/np.sqrt(nM-1))"
   ]
  },
  {
   "cell_type": "code",
   "execution_count": 72,
   "id": "eae9d735",
   "metadata": {},
   "outputs": [
    {
     "data": {
      "text/plain": [
       "(4.316980398278775, 4.683019601721225)"
      ]
     },
     "execution_count": 72,
     "metadata": {},
     "output_type": "execute_result"
    }
   ],
   "source": [
    "ciM"
   ]
  },
  {
   "cell_type": "code",
   "execution_count": 73,
   "id": "a99924d0",
   "metadata": {},
   "outputs": [],
   "source": [
    "ciF=scipy.stats.t.interval(.95, nF-1, yF,np.sqrt(sF)/np.sqrt(nF-1))"
   ]
  },
  {
   "cell_type": "code",
   "execution_count": 74,
   "id": "624bc1a5",
   "metadata": {},
   "outputs": [
    {
     "data": {
      "text/plain": [
       "(2.956548960673736, 3.2434510393262643)"
      ]
     },
     "execution_count": 74,
     "metadata": {},
     "output_type": "execute_result"
    }
   ],
   "source": [
    "ciF"
   ]
  },
  {
   "cell_type": "code",
   "execution_count": 75,
   "id": "0134173e",
   "metadata": {},
   "outputs": [],
   "source": [
    "ci = {}\n",
    "ci['Gender'] = ['Male','Female']\n",
    "ci['lb'] = [ciM[0],ciF[0]]\n",
    "ci['ub'] = [ciM[1],ciF[1]]\n",
    "df_ci= pd.DataFrame(ci)"
   ]
  },
  {
   "cell_type": "code",
   "execution_count": 76,
   "id": "f9ffdd31",
   "metadata": {},
   "outputs": [
    {
     "data": {
      "text/plain": [
       "([<matplotlib.axis.YTick at 0x1d7d4edccd0>,\n",
       "  <matplotlib.axis.YTick at 0x1d7d4edc550>],\n",
       " [Text(0, 0, 'Male'), Text(0, 1, 'Female')])"
      ]
     },
     "execution_count": 76,
     "metadata": {},
     "output_type": "execute_result"
    },
    {
     "data": {
      "image/png": "[encoded data removed]",
      "text/plain": [
       "<Figure size 432x288 with 1 Axes>"
      ]
     },
     "metadata": {
      "needs_background": "light"
     },
     "output_type": "display_data"
    }
   ],
   "source": [
    "import matplotlib.pyplot as plt\n",
    "for lb,ub,y in zip(df_ci['lb'],df_ci['ub'],range(len(df_ci))):\n",
    "    plt.plot((lb,ub),(y,y),'ro-')\n",
    "plt.yticks(range(len(df_ci)),list(df_ci['Gender']))"
   ]
  },
  {
   "cell_type": "code",
   "execution_count": null,
   "id": "15acacd9",
   "metadata": {},
   "outputs": [],
   "source": []
  }
 ],
 "metadata": {
  "kernelspec": {
   "display_name": "Python 3 (ipykernel)",
   "language": "python",
   "name": "python3"
  },
  "language_info": {
   "codemirror_mode": {
    "name": "ipython",
    "version": 3
   },
   "file_extension": ".py",
   "mimetype": "text/x-python",
   "name": "python",
   "nbconvert_exporter": "python",
   "pygments_lexer": "ipython3",
   "version": "3.9.7"
  },
  "latex_envs": {
   "LaTeX_envs_menu_present": true,
   "autoclose": false,
   "autocomplete": true,
   "bibliofile": "biblio.bib",
   "cite_by": "apalike",
   "current_citInitial": 1,
   "eqLabelWithNumbers": true,
   "eqNumInitial": 1,
   "hotkeys": {
    "equation": "Ctrl-E",
    "itemize": "Ctrl-I"
   },
   "labels_anchors": false,
   "latex_user_defs": false,
   "report_style_numbering": false,
   "user_envs_cfg": false
  },
  "toc": {
   "base_numbering": 1,
   "nav_menu": {},
   "number_sections": false,
   "sideBar": true,
   "skip_h1_title": true,
   "title_cell": "Table of Contents",
   "title_sidebar": "Contents",
   "toc_cell": true,
   "toc_position": {},
   "toc_section_display": true,
   "toc_window_display": true
  }
 },
 "nbformat": 4,
 "nbformat_minor": 5
}
